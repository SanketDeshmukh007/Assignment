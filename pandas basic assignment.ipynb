{
 "cells": [
  {
   "cell_type": "markdown",
   "metadata": {},
   "source": [
    "Q1. Create a Pandas Series that contains the following data: 4, 8, 15, 16, 23, and 42. Then, print the series."
   ]
  },
  {
   "cell_type": "code",
   "execution_count": 1,
   "metadata": {},
   "outputs": [
    {
     "name": "stdout",
     "output_type": "stream",
     "text": [
      "0     4\n",
      "1     8\n",
      "2    15\n",
      "3    16\n",
      "4    23\n",
      "5    42\n",
      "dtype: int64\n"
     ]
    }
   ],
   "source": [
    "import pandas as pd\n",
    "data = [4,8,15,16,23,42]\n",
    "series = pd.Series(data)\n",
    "print(series)"
   ]
  },
  {
   "cell_type": "code",
   "execution_count": 2,
   "metadata": {},
   "outputs": [
    {
     "data": {
      "text/plain": [
       "pandas.core.series.Series"
      ]
     },
     "execution_count": 2,
     "metadata": {},
     "output_type": "execute_result"
    }
   ],
   "source": [
    "type(series)"
   ]
  },
  {
   "cell_type": "markdown",
   "metadata": {},
   "source": [
    "Q2. Create a variable of list type containing 10 elements in it, and apply pandas.Series function on the\n",
    "variable print it."
   ]
  },
  {
   "cell_type": "code",
   "execution_count": 3,
   "metadata": {},
   "outputs": [
    {
     "name": "stdout",
     "output_type": "stream",
     "text": [
      "0     10\n",
      "1     20\n",
      "2     30\n",
      "3     40\n",
      "4     50\n",
      "5     60\n",
      "6     70\n",
      "7     80\n",
      "8     90\n",
      "9    100\n",
      "dtype: int64\n"
     ]
    }
   ],
   "source": [
    "data = [10,20,30,40,50,60,70,80,90,100]\n",
    "series = pd.Series(data)\n",
    "print(series)"
   ]
  },
  {
   "cell_type": "markdown",
   "metadata": {},
   "source": [
    "Q3. Create a Pandas DataFrame that contains the following data:\n",
    "\n",
    "Then, print the DataFrame."
   ]
  },
  {
   "cell_type": "code",
   "execution_count": 4,
   "metadata": {},
   "outputs": [
    {
     "name": "stdout",
     "output_type": "stream",
     "text": [
      "     Name  Age  Gender\n",
      "0   Alice   25  Female\n",
      "1     Bob   30    Male\n",
      "2  Claire   27  Female\n"
     ]
    }
   ],
   "source": [
    "data = {\n",
    "    'Name' : ['Alice' , 'Bob' , 'Claire'],\n",
    "    'Age' : [25 , 30 , 27],\n",
    "    'Gender' : ['Female' , 'Male' , 'Female']\n",
    "}\n",
    "df = pd.DataFrame(data)\n",
    "print(df)"
   ]
  },
  {
   "cell_type": "markdown",
   "metadata": {},
   "source": [
    "Q4. What is ‘DataFrame’ in pandas and how is it different from pandas.series? Explain with an example."
   ]
  },
  {
   "cell_type": "markdown",
   "metadata": {},
   "source": [
    "In Pandas, a DataFrame is a two-dimensional labeled data structure, similar to a table in a relational database or an Excel spreadsheet. It consists of rows and columns, where each column can hold data of different types (e.g., numbers, strings, dates), and each row represents a single observation or record. DataFrames provide a convenient and efficient way to manipulate and analyze structured data.\n",
    "\n",
    "On the other hand, a Pandas Series is a one-dimensional labeled array capable of holding data of any type. It can be thought of as a single column of a DataFrame. Each element in a Series has an associated label, referred to as an index, which allows for easy and efficient data access."
   ]
  },
  {
   "cell_type": "markdown",
   "metadata": {},
   "source": [
    "Q5. What are some common functions you can use to manipulate data in a Pandas DataFrame? Can\n",
    "you give an example of when you might use one of these functions?"
   ]
  },
  {
   "cell_type": "markdown",
   "metadata": {},
   "source": [
    "Pandas provides a wide range of functions to manipulate data within a DataFrame. Some common functions include:\n",
    "\n",
    "1. **`head()` and `tail()`**: These functions allow you to view the first or last few rows of the DataFrame, respectively. They're useful for quickly inspecting the data.\n",
    "\n",
    "   Example:\n",
    "   ```python\n",
    "   df_head = df.head()  # View the first 5 rows\n",
    "   df_tail = df.tail(3)  # View the last 3 rows\n",
    "   ```\n",
    "\n",
    "2. **`describe()`**: This function generates descriptive statistics for each numerical column in the DataFrame, such as mean, standard deviation, minimum, maximum, and quartiles.\n",
    "\n",
    "   Example:\n",
    "   ```python\n",
    "   df_stats = df.describe()  # Generate summary statistics\n",
    "   ```\n",
    "\n",
    "3. **`sort_values()`**: This function allows you to sort the DataFrame by one or more columns.\n",
    "\n",
    "   Example:\n",
    "   ```python\n",
    "   df_sorted = df.sort_values(by='Age')  # Sort by the 'Age' column\n",
    "   ```\n",
    "\n",
    "4. **`groupby()`**: This function is used to group the data based on one or more columns, allowing you to perform aggregate operations on each group.\n",
    "\n",
    "   Example:\n",
    "   ```python\n",
    "   grouped_df = df.groupby('Gender')['Age'].mean()  # Calculate average age by gender\n",
    "   ```\n",
    "\n",
    "5. **`filter()`**: This function allows you to filter rows based on specific conditions.\n",
    "\n",
    "   Example:\n",
    "   ```python\n",
    "   filtered_df = df[df['Age'] > 25]  # Filter rows where age is greater than 25\n",
    "   ```\n",
    "\n",
    "6. **`drop()`**: This function lets you remove columns or rows from the DataFrame.\n",
    "\n",
    "   Example:\n",
    "   ```python\n",
    "   df_removed_column = df.drop(columns='Math Grade')  # Remove the 'Math Grade' column\n",
    "   ```\n",
    "\n",
    "7. **`fillna()`**: This function allows you to fill missing values in the DataFrame with specified values or methods.\n",
    "\n",
    "   Example:\n",
    "   ```python\n",
    "   df_filled = df.fillna(0)  # Fill missing values with 0\n",
    "   ```\n",
    "\n",
    "8. **`apply()`**: This function applies a function to each element in a column or row.\n",
    "\n",
    "   Example:\n",
    "   ```python\n",
    "   def double_age(age):\n",
    "       return age * 2\n",
    "       \n",
    "   df['Double Age'] = df['Age'].apply(double_age)  # Create a new column with doubled ages\n",
    "   ```\n",
    "\n",
    "9. **`pivot_table()`**: This function creates a pivot table from the DataFrame, allowing you to summarize and reshape the data.\n",
    "\n",
    "   Example:\n",
    "   ```python\n",
    "   pivot_table = df.pivot_table(index='Gender', columns='Name', values='Age', aggfunc='mean')\n",
    "   ```\n",
    "\n",
    "These are just a few examples of the many functions available in Pandas for manipulating DataFrame data. The choice of function depends on the specific data manipulation task you need to perform."
   ]
  },
  {
   "cell_type": "markdown",
   "metadata": {},
   "source": [
    "Q6. Which of the following is mutable in nature Series, DataFrame, Panel?"
   ]
  },
  {
   "cell_type": "markdown",
   "metadata": {},
   "source": [
    "Among the options provided, both the `Series` and `DataFrame` are mutable in nature in Pandas, whereas the `Panel` has been deprecated in recent versions of Pandas and is not commonly used.\n",
    "\n",
    "- **Series**: A Pandas Series is mutable, meaning you can modify its elements after it's created. You can change values, add new elements, and perform various operations on a Series.\n",
    "\n",
    "- **DataFrame**: A Pandas DataFrame is also mutable. You can change values, add or remove columns, and perform various data manipulation operations on a DataFrame.\n",
    "\n",
    "- **Panel**: The Panel was a three-dimensional data structure in earlier versions of Pandas, designed to hold data in a similar manner to a DataFrame but with an additional dimension. However, starting from Pandas version 0.25.0, the Panel has been deprecated due to its complexity and limited use cases. Instead, multi-index DataFrames or other data structures are recommended for handling more complex data scenarios."
   ]
  },
  {
   "cell_type": "markdown",
   "metadata": {},
   "source": [
    "Q7. Create a DataFrame using multiple Series. Explain with an example."
   ]
  },
  {
   "cell_type": "code",
   "execution_count": 6,
   "metadata": {},
   "outputs": [
    {
     "name": "stdout",
     "output_type": "stream",
     "text": [
      "     Name  Age  Gender\n",
      "0   Alice   25  Female\n",
      "1     Bob   30    Male\n",
      "2  Claire   27  Female\n"
     ]
    }
   ],
   "source": [
    "name_series = ['Alice' , 'Bob' , 'Claire']\n",
    "age_series = [25 , 30 , 27]\n",
    "gender_series = ['Female' , 'Male' , 'Female']\n",
    "\n",
    "data = {\n",
    "    'Name' : name_series,\n",
    "    'Age' : age_series,\n",
    "    'Gender' : gender_series\n",
    "}\n",
    "\n",
    "df = pd.DataFrame(data)\n",
    "print(df)"
   ]
  },
  {
   "cell_type": "markdown",
   "metadata": {},
   "source": [
    "In this example, we created three Series (name_series, age_series, and gender_series), each containing data for the 'Name', 'Age', and 'Gender' columns, respectively. Then, we combined these Series into a dictionary called data, where the keys are the column names and the values are the Series.\n",
    "\n",
    "Finally, we used the pd.DataFrame() constructor to create a DataFrame named df from the data dictionary. The resulting DataFrame has three columns: 'Name', 'Age', and 'Gender', with the corresponding data from the Series."
   ]
  }
 ],
 "metadata": {
  "kernelspec": {
   "display_name": "Python 3",
   "language": "python",
   "name": "python3"
  },
  "language_info": {
   "codemirror_mode": {
    "name": "ipython",
    "version": 3
   },
   "file_extension": ".py",
   "mimetype": "text/x-python",
   "name": "python",
   "nbconvert_exporter": "python",
   "pygments_lexer": "ipython3",
   "version": "3.11.4"
  },
  "orig_nbformat": 4
 },
 "nbformat": 4,
 "nbformat_minor": 2
}
