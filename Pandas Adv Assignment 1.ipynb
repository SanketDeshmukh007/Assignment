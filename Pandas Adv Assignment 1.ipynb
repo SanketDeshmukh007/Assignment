{
 "cells": [
  {
   "cell_type": "markdown",
   "metadata": {},
   "source": [
    "Q1. List any five functions of the pandas library with execution."
   ]
  },
  {
   "cell_type": "markdown",
   "metadata": {},
   "source": [
    "Certainly! Here are five common functions from the pandas library in Python along with their executions:\n",
    "\n",
    "1. **`pandas.read_csv()`**: This function is used to read data from a CSV file into a pandas DataFrame.\n",
    "\n",
    "```python\n",
    "import pandas as pd\n",
    "\n",
    "# Reading a CSV file and creating a DataFrame\n",
    "data = pd.read_csv('data.csv')\n",
    "print(data.head())\n",
    "```\n",
    "\n",
    "2. **`pandas.DataFrame()`**: This function is used to create a DataFrame from various data sources, such as lists, dictionaries, or NumPy arrays.\n",
    "\n",
    "```python\n",
    "import pandas as pd\n",
    "\n",
    "# Creating a DataFrame from a dictionary\n",
    "data = {'Name': ['Alice', 'Bob', 'Charlie'],\n",
    "        'Age': [25, 30, 22]}\n",
    "df = pd.DataFrame(data)\n",
    "print(df)\n",
    "```\n",
    "\n",
    "3. **`pandas.DataFrame.groupby()`**: This function is used to group rows of a DataFrame based on one or more columns, enabling aggregation and analysis.\n",
    "\n",
    "```python\n",
    "import pandas as pd\n",
    "\n",
    "# Grouping by the 'Category' column and calculating the mean of 'Value'\n",
    "data = {'Category': ['A', 'B', 'A', 'B', 'A'],\n",
    "        'Value': [10, 20, 15, 25, 12]}\n",
    "df = pd.DataFrame(data)\n",
    "grouped = df.groupby('Category')['Value'].mean()\n",
    "print(grouped)\n",
    "```\n",
    "\n",
    "4. **`pandas.DataFrame.merge()`**: This function is used to merge two or more DataFrames based on common columns or indices.\n",
    "\n",
    "```python\n",
    "import pandas as pd\n",
    "\n",
    "# Merging two DataFrames based on a common column 'ID'\n",
    "df1 = pd.DataFrame({'ID': [1, 2, 3],\n",
    "                    'Name': ['Alice', 'Bob', 'Charlie']})\n",
    "df2 = pd.DataFrame({'ID': [2, 3, 4],\n",
    "                    'Age': [25, 30, 22]})\n",
    "merged = df1.merge(df2, on='ID')\n",
    "print(merged)\n",
    "```\n",
    "\n",
    "5. **`pandas.Series.value_counts()`**: This function is used to count the occurrences of unique values in a Series.\n",
    "\n",
    "```python\n",
    "import pandas as pd\n",
    "\n",
    "# Counting the occurrences of unique values in a Series\n",
    "data = pd.Series([2, 3, 2, 4, 3, 2, 4, 2])\n",
    "value_counts = data.value_counts()\n",
    "print(value_counts)\n",
    "```"
   ]
  },
  {
   "cell_type": "markdown",
   "metadata": {},
   "source": [
    "Q2. Given a Pandas DataFrame df with columns 'A', 'B', and 'C', write a Python function to re-index the\n",
    "DataFrame with a new index that starts from 1 and increments by 2 for each row."
   ]
  },
  {
   "cell_type": "code",
   "execution_count": 6,
   "metadata": {},
   "outputs": [
    {
     "name": "stdout",
     "output_type": "stream",
     "text": [
      "    A   B    C\n",
      "1  10   5  100\n",
      "3  20  15  200\n",
      "5  30  25  300\n"
     ]
    }
   ],
   "source": [
    "import pandas as pd\n",
    "\n",
    "def reindex_with_increment(df):\n",
    "    new_index = range(1, 2 * len(df), 2)  # New index values\n",
    "    df_reindexed = df.copy()\n",
    "    df_reindexed.index = new_index\n",
    "    return df_reindexed\n",
    "\n",
    "# Example DataFrame\n",
    "data = {'A': [10, 20, 30],\n",
    "        'B': [5, 15, 25],\n",
    "        'C': [100, 200, 300]}\n",
    "df = pd.DataFrame(data)\n",
    "\n",
    "# Re-index the DataFrame\n",
    "df_new_index = reindex_with_increment(df)\n",
    "print(df_new_index)\n"
   ]
  },
  {
   "cell_type": "markdown",
   "metadata": {},
   "source": [
    "Q3. You have a Pandas DataFrame df with a column named 'Values'. Write a Python function that\n",
    "iterates over the DataFrame and calculates the sum of the first three values in the 'Values' column. The\n",
    "function should print the sum to the console."
   ]
  },
  {
   "cell_type": "code",
   "execution_count": 9,
   "metadata": {},
   "outputs": [
    {
     "name": "stdout",
     "output_type": "stream",
     "text": [
      "0    10\n",
      "1    20\n",
      "2    30\n",
      "3    40\n",
      "4    50\n",
      "Name: Values, dtype: int64\n",
      "Sum of the first three values: 60\n"
     ]
    }
   ],
   "source": [
    "import pandas as pd\n",
    "\n",
    "def calculate_sum_first_three(df):\n",
    "    values_column = df['Values']  # Extract the 'Values' column\n",
    "    print(values_column)\n",
    "    sum_first_three = values_column.head(3).sum()  # Calculate sum of the first three values\n",
    "    print(\"Sum of the first three values:\", sum_first_three)\n",
    "\n",
    "# Example DataFrame\n",
    "data = {'Values': [10, 20, 30, 40, 50]}\n",
    "df = pd.DataFrame(data)\n",
    "\n",
    "# Calculate and print the sum of the first three values\n",
    "calculate_sum_first_three(df)\n"
   ]
  },
  {
   "cell_type": "markdown",
   "metadata": {},
   "source": [
    "Q4. Given a Pandas DataFrame df with a column 'Text', write a Python function to create a new column\n",
    "'Word_Count' that contains the number of words in each row of the 'Text' column."
   ]
  },
  {
   "cell_type": "code",
   "execution_count": 10,
   "metadata": {},
   "outputs": [
    {
     "name": "stdout",
     "output_type": "stream",
     "text": [
      "                        Text  Word_Count\n",
      "0        Hello, how are you?           4\n",
      "1  Python programming is fun           4\n",
      "2              Data analysis           2\n"
     ]
    }
   ],
   "source": [
    "import pandas as pd\n",
    "import re  # Import the regular expression module\n",
    "\n",
    "def add_word_count_column(df):\n",
    "    # Function to count words in a text\n",
    "    def count_words(text):\n",
    "        words = re.findall(r'\\w+', text)  # Use regex to find all words\n",
    "        return len(words)\n",
    "\n",
    "    df['Word_Count'] = df['Text'].apply(count_words)  # Apply the count_words function to each row\n",
    "\n",
    "# Example DataFrame\n",
    "data = {'Text': [\"Hello, how are you?\", \"Python programming is fun\", \"Data analysis\"]}\n",
    "df = pd.DataFrame(data)\n",
    "\n",
    "# Add the 'Word_Count' column to the DataFrame\n",
    "add_word_count_column(df)\n",
    "print(df)\n"
   ]
  },
  {
   "cell_type": "markdown",
   "metadata": {},
   "source": [
    "Q5. How are DataFrame.size() and DataFrame.shape() different?"
   ]
  },
  {
   "cell_type": "markdown",
   "metadata": {},
   "source": [
    "DataFrame.size and DataFrame.shape are both attributes in pandas that provide information about the dimensions of a DataFrame, but they represent slightly different aspects of the DataFrame.\n",
    "\n",
    "    DataFrame.size: This attribute returns the total number of elements in the DataFrame. It's calculated as the product of the number of rows and the number of columns in the DataFrame.\n",
    "\n",
    "    DataFrame.shape: This attribute returns a tuple representing the dimensions of the DataFrame. The tuple contains two values: the number of rows and the number of columns."
   ]
  },
  {
   "cell_type": "code",
   "execution_count": 11,
   "metadata": {},
   "outputs": [
    {
     "name": "stdout",
     "output_type": "stream",
     "text": [
      "DataFrame size: 6\n",
      "DataFrame shape: (3, 2)\n"
     ]
    }
   ],
   "source": [
    "import pandas as pd\n",
    "\n",
    "# Creating an example DataFrame\n",
    "data = {'A': [1, 2, 3],\n",
    "        'B': [4, 5, 6]}\n",
    "df = pd.DataFrame(data)\n",
    "\n",
    "# Using DataFrame.size\n",
    "size = df.size\n",
    "print(\"DataFrame size:\", size)  # Output: DataFrame size: 6 (2 rows * 3 columns)\n",
    "\n",
    "# Using DataFrame.shape\n",
    "shape = df.shape\n",
    "print(\"DataFrame shape:\", shape)  # Output: DataFrame shape: (3, 2) (3 rows, 2 columns)\n"
   ]
  },
  {
   "cell_type": "markdown",
   "metadata": {},
   "source": [
    "Q6. Which function of pandas do we use to read an excel file?"
   ]
  },
  {
   "cell_type": "markdown",
   "metadata": {},
   "source": [
    "In pandas, the function used to read an Excel file is pandas.read_excel(). This function allows you to read data from an Excel file (both .xls and .xlsx formats) and create a DataFrame from it."
   ]
  },
  {
   "cell_type": "markdown",
   "metadata": {},
   "source": [
    "Q7. You have a Pandas DataFrame df that contains a column named 'Email' that contains email\n",
    "addresses in the format 'username@domain.com'. Write a Python function that creates a new column\n",
    "'Username' in df that contains only the username part of each email address.\n",
    "The username is the part of the email address that appears before the '@' symbol. For example, if the\n",
    "email address is 'john.doe@example.com', the 'Username' column should contain 'john.doe'. Your\n",
    "function should extract the username from each email address and store it in the new 'Username'\n",
    "column."
   ]
  },
  {
   "cell_type": "code",
   "execution_count": 12,
   "metadata": {},
   "outputs": [
    {
     "name": "stdout",
     "output_type": "stream",
     "text": [
      "                    Email    Username\n",
      "0    john.doe@example.com    john.doe\n",
      "1  jane.smith@example.com  jane.smith\n",
      "2   bob.jones@example.com   bob.jones\n"
     ]
    }
   ],
   "source": [
    "import pandas as pd\n",
    "\n",
    "def extract_username(df):\n",
    "    # Function to extract username from an email\n",
    "    def get_username(email):\n",
    "        return email.split('@')[0]\n",
    "\n",
    "    df['Username'] = df['Email'].apply(get_username)  # Apply the get_username function to each row\n",
    "\n",
    "# Example DataFrame\n",
    "data = {'Email': [\"john.doe@example.com\", \"jane.smith@example.com\", \"bob.jones@example.com\"]}\n",
    "df = pd.DataFrame(data)\n",
    "\n",
    "# Extract usernames and add them to the 'Username' column\n",
    "extract_username(df)\n",
    "print(df)\n"
   ]
  },
  {
   "cell_type": "markdown",
   "metadata": {},
   "source": [
    "Q8. You have a Pandas DataFrame df with columns 'A', 'B', and 'C'. Write a Python function that selects\n",
    "all rows where the value in column 'A' is greater than 5 and the value in column 'B' is less than 10. The\n",
    "function should return a new DataFrame that contains only the selected rows."
   ]
  },
  {
   "cell_type": "code",
   "execution_count": 13,
   "metadata": {},
   "outputs": [
    {
     "name": "stdout",
     "output_type": "stream",
     "text": [
      "    A  B    C\n",
      "1   8  4  200\n",
      "3  10  2  400\n"
     ]
    }
   ],
   "source": [
    "import pandas as pd\n",
    "\n",
    "def filter_dataframe(df):\n",
    "    filtered_df = df[(df['A'] > 5) & (df['B'] < 10)]\n",
    "    return filtered_df\n",
    "\n",
    "# Example DataFrame\n",
    "data = {'A': [3, 8, 2, 10],\n",
    "        'B': [5, 4, 7, 2],\n",
    "        'C': [100, 200, 300, 400]}\n",
    "df = pd.DataFrame(data)\n",
    "\n",
    "# Filter the DataFrame based on conditions and get the new filtered DataFrame\n",
    "filtered_df = filter_dataframe(df)\n",
    "print(filtered_df)"
   ]
  },
  {
   "cell_type": "markdown",
   "metadata": {},
   "source": [
    "Q9. Given a Pandas DataFrame df with a column 'Values', write a Python function to calculate the mean,\n",
    "median, and standard deviation of the values in the 'Values' column."
   ]
  },
  {
   "cell_type": "code",
   "execution_count": 14,
   "metadata": {},
   "outputs": [
    {
     "name": "stdout",
     "output_type": "stream",
     "text": [
      "Mean: 30.0\n",
      "Median: 30.0\n",
      "Standard Deviation: 15.811388300841896\n"
     ]
    }
   ],
   "source": [
    "import pandas as pd\n",
    "\n",
    "def calculate_stats(df):\n",
    "    values_column = df['Values']  # Extract the 'Values' column\n",
    "    mean_value = values_column.mean()  # Calculate mean\n",
    "    median_value = values_column.median()  # Calculate median\n",
    "    std_dev = values_column.std()  # Calculate standard deviation\n",
    "    \n",
    "    return mean_value, median_value, std_dev\n",
    "\n",
    "# Example DataFrame\n",
    "data = {'Values': [10, 20, 30, 40, 50]}\n",
    "df = pd.DataFrame(data)\n",
    "\n",
    "# Calculate mean, median, and standard deviation\n",
    "mean, median, std = calculate_stats(df)\n",
    "print(\"Mean:\", mean)\n",
    "print(\"Median:\", median)\n",
    "print(\"Standard Deviation:\", std)\n"
   ]
  },
  {
   "cell_type": "markdown",
   "metadata": {},
   "source": [
    "Q10. Given a Pandas DataFrame df with a column 'Sales' and a column 'Date', write a Python function to\n",
    "create a new column 'MovingAverage' that contains the moving average of the sales for the past 7 days\n",
    "for each row in the DataFrame. The moving average should be calculated using a window of size 7 and\n",
    "should include the current day."
   ]
  },
  {
   "cell_type": "code",
   "execution_count": 15,
   "metadata": {},
   "outputs": [
    {
     "name": "stdout",
     "output_type": "stream",
     "text": [
      "        Date  Sales  MovingAverage\n",
      "0 2023-08-01    100     100.000000\n",
      "1 2023-08-02    150     125.000000\n",
      "2 2023-08-03    200     150.000000\n",
      "3 2023-08-04    180     157.500000\n",
      "4 2023-08-05    220     170.000000\n",
      "5 2023-08-06    250     183.333333\n",
      "6 2023-08-07    300     200.000000\n"
     ]
    }
   ],
   "source": [
    "import pandas as pd\n",
    "\n",
    "def calculate_moving_average(df):\n",
    "    # Convert the 'Date' column to a datetime type\n",
    "    df['Date'] = pd.to_datetime(df['Date'])\n",
    "\n",
    "    # Sort the DataFrame by 'Date'\n",
    "    df = df.sort_values(by='Date')\n",
    "\n",
    "    # Calculate the moving average using a rolling window of size 7\n",
    "    df['MovingAverage'] = df['Sales'].rolling(window=7, min_periods=1).mean()\n",
    "\n",
    "    return df\n",
    "\n",
    "# Example DataFrame\n",
    "data = {'Date': ['2023-08-01', '2023-08-02', '2023-08-03', '2023-08-04', '2023-08-05', '2023-08-06', '2023-08-07'],\n",
    "        'Sales': [100, 150, 200, 180, 220, 250, 300]}\n",
    "df = pd.DataFrame(data)\n",
    "\n",
    "# Calculate the moving average and add it to the DataFrame\n",
    "df_with_moving_avg = calculate_moving_average(df)\n",
    "print(df_with_moving_avg)\n"
   ]
  },
  {
   "cell_type": "markdown",
   "metadata": {},
   "source": [
    "Q11. You have a Pandas DataFrame df with a column 'Date'. Write a Python function that creates a new\n",
    "column 'Weekday' in the DataFrame. The 'Weekday' column should contain the weekday name (e.g.\n",
    "Monday, Tuesday) corresponding to each date in the 'Date' column."
   ]
  },
  {
   "cell_type": "code",
   "execution_count": 16,
   "metadata": {},
   "outputs": [
    {
     "name": "stdout",
     "output_type": "stream",
     "text": [
      "        Date    Weekday\n",
      "0 2023-08-01    Tuesday\n",
      "1 2023-08-02  Wednesday\n",
      "2 2023-08-03   Thursday\n"
     ]
    }
   ],
   "source": [
    "import pandas as pd\n",
    "\n",
    "def add_weekday_column(df):\n",
    "    # Convert the 'Date' column to a datetime type\n",
    "    df['Date'] = pd.to_datetime(df['Date'])\n",
    "    \n",
    "    # Map weekday names to the 'Weekday' column\n",
    "    df['Weekday'] = df['Date'].dt.strftime('%A')\n",
    "\n",
    "# Example DataFrame\n",
    "data = {'Date': ['2023-08-01', '2023-08-02', '2023-08-03']}\n",
    "df = pd.DataFrame(data)\n",
    "\n",
    "# Add the 'Weekday' column to the DataFrame\n",
    "add_weekday_column(df)\n",
    "print(df)\n"
   ]
  },
  {
   "cell_type": "markdown",
   "metadata": {},
   "source": [
    "Q12. Given a Pandas DataFrame df with a column 'Date' that contains timestamps, write a Python\n",
    "function to select all rows where the date is between '2023-01-01' and '2023-01-31'."
   ]
  },
  {
   "cell_type": "code",
   "execution_count": 17,
   "metadata": {},
   "outputs": [
    {
     "name": "stdout",
     "output_type": "stream",
     "text": [
      "        Date\n",
      "0 2023-01-15\n",
      "1 2023-01-20\n",
      "3 2023-01-10\n"
     ]
    }
   ],
   "source": [
    "import pandas as pd\n",
    "\n",
    "def select_january_data(df):\n",
    "    # Convert the 'Date' column to a datetime type\n",
    "    df['Date'] = pd.to_datetime(df['Date'])\n",
    "    \n",
    "    # Select rows with dates between '2023-01-01' and '2023-01-31'\n",
    "    selected_rows = df[(df['Date'] >= '2023-01-01') & (df['Date'] <= '2023-01-31')]\n",
    "    \n",
    "    return selected_rows\n",
    "\n",
    "# Example DataFrame\n",
    "data = {'Date': ['2023-01-15', '2023-01-20', '2023-02-05', '2023-01-10']}\n",
    "df = pd.DataFrame(data)\n",
    "\n",
    "# Select rows with dates between '2023-01-01' and '2023-01-31'\n",
    "selected_january_data = select_january_data(df)\n",
    "print(selected_january_data)\n"
   ]
  },
  {
   "cell_type": "markdown",
   "metadata": {},
   "source": [
    "Q13. To use the basic functions of pandas, what is the first and foremost necessary library that needs to\n",
    "be imported?"
   ]
  },
  {
   "cell_type": "markdown",
   "metadata": {},
   "source": [
    "The first and foremost necessary library that needs to be imported to use the basic functions of pandas is the pandas library itself."
   ]
  }
 ],
 "metadata": {
  "kernelspec": {
   "display_name": "Python 3",
   "language": "python",
   "name": "python3"
  },
  "language_info": {
   "codemirror_mode": {
    "name": "ipython",
    "version": 3
   },
   "file_extension": ".py",
   "mimetype": "text/x-python",
   "name": "python",
   "nbconvert_exporter": "python",
   "pygments_lexer": "ipython3",
   "version": "3.11.4"
  },
  "orig_nbformat": 4
 },
 "nbformat": 4,
 "nbformat_minor": 2
}
