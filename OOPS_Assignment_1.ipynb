{
 "cells": [
  {
   "cell_type": "markdown",
   "metadata": {},
   "source": [
    "Q1. Explain Class and Object with respect to Object-Oriented Programming. Give a suitable example."
   ]
  },
  {
   "cell_type": "markdown",
   "metadata": {},
   "source": [
    "Class is a user defined data type that consists of its own data members and member functions which can be accessed by creating instance of that class.\n",
    "An object is instance of a class."
   ]
  },
  {
   "cell_type": "code",
   "execution_count": 1,
   "metadata": {},
   "outputs": [],
   "source": [
    "class Rectangle:\n",
    "    def __init__(self,length,breadth):\n",
    "        self.length = length\n",
    "        self.breadth = breadth\n",
    "    \n",
    "    def area(self):\n",
    "        return self.length * self.breadth\n",
    "        "
   ]
  },
  {
   "cell_type": "code",
   "execution_count": 2,
   "metadata": {},
   "outputs": [],
   "source": [
    "obj = Rectangle(10,5)"
   ]
  },
  {
   "cell_type": "code",
   "execution_count": 3,
   "metadata": {},
   "outputs": [
    {
     "data": {
      "text/plain": [
       "50"
      ]
     },
     "execution_count": 3,
     "metadata": {},
     "output_type": "execute_result"
    }
   ],
   "source": [
    "obj.area()"
   ]
  },
  {
   "cell_type": "markdown",
   "metadata": {},
   "source": [
    "Q2. Name the four pillars of OOPs."
   ]
  },
  {
   "cell_type": "markdown",
   "metadata": {},
   "source": [
    "1. Abstraction\n",
    "2. Encapsulation\n",
    "3. Inheritance\n",
    "4. Polymorphism"
   ]
  },
  {
   "cell_type": "markdown",
   "metadata": {},
   "source": [
    "Q3. Explain why the __init__() function is used. Give a suitable example."
   ]
  },
  {
   "cell_type": "markdown",
   "metadata": {},
   "source": [
    "init() function is used to initialize the object."
   ]
  },
  {
   "cell_type": "code",
   "execution_count": 5,
   "metadata": {},
   "outputs": [],
   "source": [
    "class Cube:\n",
    "    def __init__(self,length,breadth,height):\n",
    "        self.length = length\n",
    "        self.breadth = breadth\n",
    "        self.height = height"
   ]
  },
  {
   "cell_type": "code",
   "execution_count": 6,
   "metadata": {},
   "outputs": [],
   "source": [
    "obj1 = Cube(10,20,30)"
   ]
  },
  {
   "cell_type": "code",
   "execution_count": 7,
   "metadata": {},
   "outputs": [
    {
     "name": "stdout",
     "output_type": "stream",
     "text": [
      "10\n",
      "20\n",
      "30\n"
     ]
    }
   ],
   "source": [
    "print(obj1.length)\n",
    "print(obj1.breadth)\n",
    "print(obj1.height)"
   ]
  },
  {
   "cell_type": "markdown",
   "metadata": {},
   "source": [
    "Q4. Why self is used in OOPs?"
   ]
  },
  {
   "cell_type": "markdown",
   "metadata": {},
   "source": [
    "In object-oriented programming (OOP), the concept of self is used to refer to the current instance of a class. It is a reference to the object itself within its own methods and allows the object to access its own attributes and methods.\n",
    "\n",
    "The use of self is important for several reasons:\n",
    "\n",
    "Accessing instance variables: self allows an object to access its own instance variables (properties or attributes). When a method is called on an object, self is used to refer to the specific instance of the object and access its data.\n",
    "\n",
    "Calling other methods: self is used to call other methods within the same object. When a method needs to invoke another method of the same object, self is used to reference the object and make the method call.\n",
    "\n",
    "Differentiating between local and instance variables: Using self helps differentiate between local variables (defined within a method) and instance variables (defined within the class). By using self, you can explicitly refer to instance variables, avoiding potential naming conflicts with local variables.\n",
    "\n",
    "Code readability and maintainability: By using self, it becomes clear and explicit that you are referencing an attribute or method of the object itself. It improves code readability and makes it easier for other developers to understand the code and its intention."
   ]
  },
  {
   "cell_type": "markdown",
   "metadata": {},
   "source": [
    "Q5. What is inheritance? Give an example for each type of inheritance."
   ]
  },
  {
   "cell_type": "markdown",
   "metadata": {},
   "source": [
    "The capability of a class to derive the properties from another class is known as inheritance. There are 5 types of inheritance.\n",
    "1. single\n",
    "2. multiple\n",
    "3. multilevel\n",
    "4. hybrid\n",
    "5. hierarchical"
   ]
  },
  {
   "cell_type": "code",
   "execution_count": 8,
   "metadata": {},
   "outputs": [
    {
     "name": "stdout",
     "output_type": "stream",
     "text": [
      "This is single inheritance\n"
     ]
    }
   ],
   "source": [
    "# 1. single\n",
    "class Parent:\n",
    "    \n",
    "    def fun(self):\n",
    "        print(\"This is single inheritance\")\n",
    "\n",
    "class Child(Parent):\n",
    "    pass\n",
    "\n",
    "child = Child()\n",
    "child.fun()"
   ]
  },
  {
   "cell_type": "code",
   "execution_count": 9,
   "metadata": {},
   "outputs": [],
   "source": [
    "# 2. Multiple\n",
    "class father:\n",
    "    pass\n",
    "class mother:\n",
    "    def fun(self):\n",
    "        print(\"This is multiple inheritance\")\n",
    "class child(father,mother):\n",
    "    pass"
   ]
  },
  {
   "cell_type": "code",
   "execution_count": 10,
   "metadata": {},
   "outputs": [
    {
     "name": "stdout",
     "output_type": "stream",
     "text": [
      "This is multiple inheritance\n"
     ]
    }
   ],
   "source": [
    "childobj = child()\n",
    "childobj.fun()"
   ]
  },
  {
   "cell_type": "code",
   "execution_count": 11,
   "metadata": {},
   "outputs": [
    {
     "name": "stdout",
     "output_type": "stream",
     "text": [
      "This is multilevel inheritance\n"
     ]
    }
   ],
   "source": [
    "# 3. Multilevel\n",
    "class grandfather:\n",
    "    def fun(self):\n",
    "        print(\"This is multilevel inheritance\")\n",
    "\n",
    "class father(grandfather):\n",
    "    pass\n",
    "\n",
    "class child(father):\n",
    "    pass\n",
    "\n",
    "childobj = child()\n",
    "childobj.fun()"
   ]
  },
  {
   "cell_type": "code",
   "execution_count": 12,
   "metadata": {},
   "outputs": [
    {
     "name": "stdout",
     "output_type": "stream",
     "text": [
      "This is hybrid inheritance\n"
     ]
    }
   ],
   "source": [
    "# 4. Hybrid \n",
    "class A:\n",
    "    def fun(self):\n",
    "        print(\"This is hybrid inheritance\")\n",
    "class B(A):\n",
    "    pass\n",
    "class C(A):\n",
    "    pass\n",
    "class D(B,C):\n",
    "    pass\n",
    "\n",
    "obj = D()\n",
    "obj.fun()"
   ]
  },
  {
   "cell_type": "code",
   "execution_count": 13,
   "metadata": {},
   "outputs": [
    {
     "name": "stdout",
     "output_type": "stream",
     "text": [
      "This is hierarchical inheritance\n"
     ]
    }
   ],
   "source": [
    "# 5. Hierarchical\n",
    "class A:\n",
    "    def fun(self):\n",
    "        print(\"This is hierarchical inheritance\")\n",
    "class B(A):\n",
    "    pass\n",
    "class C(A):\n",
    "    pass\n",
    "\n",
    "obj = C()\n",
    "obj.fun()"
   ]
  }
 ],
 "metadata": {
  "kernelspec": {
   "display_name": "Python 3",
   "language": "python",
   "name": "python3"
  },
  "language_info": {
   "codemirror_mode": {
    "name": "ipython",
    "version": 3
   },
   "file_extension": ".py",
   "mimetype": "text/x-python",
   "name": "python",
   "nbconvert_exporter": "python",
   "pygments_lexer": "ipython3",
   "version": "3.11.4"
  },
  "orig_nbformat": 4
 },
 "nbformat": 4,
 "nbformat_minor": 2
}
