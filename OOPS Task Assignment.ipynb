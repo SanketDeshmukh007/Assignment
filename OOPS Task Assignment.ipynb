{
 "cells": [
  {
   "cell_type": "markdown",
   "id": "ec755b63-0164-4712-99ae-1df62af910db",
   "metadata": {},
   "source": [
    "Q1. Create a vehicle class with an init method having instance variables as name_of_vehicle, max_speed\n",
    "and average_of_vehicle."
   ]
  },
  {
   "cell_type": "code",
   "execution_count": 1,
   "id": "a1b3b41d-f63d-4812-908c-80d1cacf309a",
   "metadata": {},
   "outputs": [],
   "source": [
    "class vehicle:\n",
    "    def __init__(self,name,speed,average):\n",
    "        self.name_of_vehicle = name\n",
    "        self.max_speed = speed\n",
    "        self.average_of_vehicle = average"
   ]
  },
  {
   "cell_type": "code",
   "execution_count": 2,
   "id": "b9e3bea5-01a6-4227-b1ed-9aa7b2f7ca49",
   "metadata": {},
   "outputs": [
    {
     "name": "stdout",
     "output_type": "stream",
     "text": [
      "BMW\n",
      "200\n",
      "40\n"
     ]
    }
   ],
   "source": [
    "Four_Wheeler = vehicle('BMW',200,40)\n",
    "print(Four_Wheeler.name_of_vehicle)\n",
    "print(Four_Wheeler.max_speed)\n",
    "print(Four_Wheeler.average_of_vehicle)"
   ]
  },
  {
   "cell_type": "markdown",
   "id": "356d75ef-4741-4f6d-9431-218ce01175d7",
   "metadata": {},
   "source": [
    "Q2. Create a child class car from the vehicle class created in Que 1, which will inherit the vehicle class.\n",
    "Create a method named seating_capacity which takes capacity as an argument and returns the name of\n",
    "the vehicle and its seating capacity."
   ]
  },
  {
   "cell_type": "code",
   "execution_count": 6,
   "id": "46a176ba-347c-4571-8f81-c8aa175e960f",
   "metadata": {},
   "outputs": [],
   "source": [
    "class car(vehicle):\n",
    "    def seating_capacity(self,capacity):\n",
    "        self.capacity = capacity\n",
    "        return self.name_of_vehicle,self.capacity"
   ]
  },
  {
   "cell_type": "code",
   "execution_count": 7,
   "id": "5afba3b5-49c5-4627-b8e5-dc6e3ded3cae",
   "metadata": {},
   "outputs": [
    {
     "data": {
      "text/plain": [
       "('Mercedes', 8)"
      ]
     },
     "execution_count": 7,
     "metadata": {},
     "output_type": "execute_result"
    }
   ],
   "source": [
    "obj1 = car('Mercedes',210,50)\n",
    "obj1.seating_capacity(8)"
   ]
  },
  {
   "cell_type": "markdown",
   "id": "e1017d0c-7737-41f3-9e72-4fa252f8db78",
   "metadata": {},
   "source": [
    "Q3. What is multiple inheritance? Write a python code to demonstrate multiple inheritance."
   ]
  },
  {
   "cell_type": "markdown",
   "id": "5a9056b6-764f-4372-8d86-5af331127b2f",
   "metadata": {},
   "source": [
    "In a multiple inheritance a class is allowed to inherit from more than one class."
   ]
  },
  {
   "cell_type": "code",
   "execution_count": 8,
   "id": "891cb1e9-21d3-4f1c-bfa7-2873e484eadb",
   "metadata": {},
   "outputs": [
    {
     "name": "stdout",
     "output_type": "stream",
     "text": [
      "I can eat\n",
      "I can prepare food\n",
      "I can do both\n"
     ]
    }
   ],
   "source": [
    "class Father:\n",
    "    def eat(self):\n",
    "        print('I can eat')\n",
    "\n",
    "class Mother:\n",
    "    def prepare(self):\n",
    "        print('I can prepare food')\n",
    "\n",
    "class Child(Father,Mother):\n",
    "    def both(self):\n",
    "        print('I can do both')\n",
    "\n",
    "obj = Child()\n",
    "obj.eat()\n",
    "obj.prepare()\n",
    "obj.both()"
   ]
  },
  {
   "cell_type": "markdown",
   "id": "682ea43c-433b-4af5-8cfa-56a9b4e5ee43",
   "metadata": {},
   "source": [
    "Q4. What are getter and setter in python? Create a class and create a getter and a setter method in this\n",
    "class."
   ]
  },
  {
   "cell_type": "markdown",
   "id": "94247d8e-260b-42eb-a2fe-aacec7e58242",
   "metadata": {},
   "source": [
    "We can access the private declared data members using getter method and we can set the values using setter method."
   ]
  },
  {
   "cell_type": "code",
   "execution_count": 9,
   "id": "97146c71-ec18-432a-aa00-47e925ec7925",
   "metadata": {},
   "outputs": [],
   "source": [
    "class Rectangle:\n",
    "    def __init__(self,length,breadth):\n",
    "        self.__length = length\n",
    "        self.__breadth = breadth\n",
    "    \n",
    "    def setLength(self,length):\n",
    "        self.__length = length\n",
    "    \n",
    "    def getLength(self):\n",
    "        return self.__length"
   ]
  },
  {
   "cell_type": "code",
   "execution_count": 10,
   "id": "2a003be2-0fc3-4354-a551-eb623a3794ad",
   "metadata": {},
   "outputs": [
    {
     "ename": "AttributeError",
     "evalue": "'Rectangle' object has no attribute '__length'",
     "output_type": "error",
     "traceback": [
      "\u001b[0;31m---------------------------------------------------------------------------\u001b[0m",
      "\u001b[0;31mAttributeError\u001b[0m                            Traceback (most recent call last)",
      "Cell \u001b[0;32mIn[10], line 2\u001b[0m\n\u001b[1;32m      1\u001b[0m r1 \u001b[38;5;241m=\u001b[39m Rectangle(\u001b[38;5;241m10\u001b[39m,\u001b[38;5;241m5\u001b[39m)\n\u001b[0;32m----> 2\u001b[0m \u001b[38;5;28mprint\u001b[39m(\u001b[43mr1\u001b[49m\u001b[38;5;241;43m.\u001b[39;49m\u001b[43m__length\u001b[49m)\n",
      "\u001b[0;31mAttributeError\u001b[0m: 'Rectangle' object has no attribute '__length'"
     ]
    }
   ],
   "source": [
    "r1 = Rectangle(10,5)\n",
    "print(r1.__length)"
   ]
  },
  {
   "cell_type": "code",
   "execution_count": 11,
   "id": "3b64f701-7e33-4079-83f7-2ebe818758a5",
   "metadata": {},
   "outputs": [
    {
     "data": {
      "text/plain": [
       "10"
      ]
     },
     "execution_count": 11,
     "metadata": {},
     "output_type": "execute_result"
    }
   ],
   "source": [
    "r1.getLength()"
   ]
  },
  {
   "cell_type": "code",
   "execution_count": 12,
   "id": "2a4d4b59-b3a9-401a-86de-9682f270ba96",
   "metadata": {},
   "outputs": [
    {
     "data": {
      "text/plain": [
       "20"
      ]
     },
     "execution_count": 12,
     "metadata": {},
     "output_type": "execute_result"
    }
   ],
   "source": [
    "r1.setLength(20)\n",
    "r1.getLength()"
   ]
  },
  {
   "cell_type": "markdown",
   "id": "8d1b46f4-3b51-4647-9117-9fcbd9d55b6c",
   "metadata": {},
   "source": [
    "Q5.What is method overriding in python? Write a python code to demonstrate method overriding."
   ]
  },
  {
   "cell_type": "markdown",
   "id": "15c4c02a-43a3-4a09-ac68-8b37c3f5629d",
   "metadata": {},
   "source": [
    "Method overriding in Python occurs when a subclass provides its own implementation of a method that is already defined in its superclass. The overridden method in the subclass has the same name, parameters, and return type as the method in the superclass."
   ]
  },
  {
   "cell_type": "code",
   "execution_count": null,
   "id": "77e38d03-d399-45a3-903a-7e882078e5bc",
   "metadata": {},
   "outputs": [],
   "source": [
    "class Vehicle:\n",
    "    def __init__(self, name):\n",
    "        self.name = name\n",
    "\n",
    "    def display_info(self):\n",
    "        print(f\"Vehicle: {self.name}\")\n",
    "\n",
    "\n",
    "class Car(Vehicle):\n",
    "    def __init__(self, name, model):\n",
    "        super().__init__(name)\n",
    "        self.model = model\n",
    "\n",
    "    def display_info(self):\n",
    "        print(f\"Car: {self.name}, Model: {self.model}\")\n",
    "\n",
    "\n",
    "vehicle1 = Vehicle(\"Generic Vehicle\")\n",
    "car1 = Car(\"Sedan Car\", \"XYZ\")\n",
    "\n",
    "vehicle1.display_info()\n",
    "car1.display_info()\n"
   ]
  }
 ],
 "metadata": {
  "kernelspec": {
   "display_name": "Python 3 (ipykernel)",
   "language": "python",
   "name": "python3"
  },
  "language_info": {
   "codemirror_mode": {
    "name": "ipython",
    "version": 3
   },
   "file_extension": ".py",
   "mimetype": "text/x-python",
   "name": "python",
   "nbconvert_exporter": "python",
   "pygments_lexer": "ipython3",
   "version": "3.10.8"
  }
 },
 "nbformat": 4,
 "nbformat_minor": 5
}
