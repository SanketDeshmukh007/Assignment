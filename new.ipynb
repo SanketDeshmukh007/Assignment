{
 "cells": [
  {
   "cell_type": "code",
   "execution_count": 1,
   "metadata": {},
   "outputs": [],
   "source": [
    "from selenium import webdriver\n",
    "from selenium.webdriver.chrome.service import Service\n",
    "from selenium.webdriver.chrome.options import Options\n",
    "from webdriver_manager.chrome import ChromeDriverManager\n",
    "\n",
    "options = Options()\n",
    "options.add_experimental_option(\"detach\",True)\n",
    "\n",
    "url = \"https://www.youtube.com/@PW-Foundation/videos\"\n",
    "\n",
    "driver = webdriver.Chrome(service=Service(ChromeDriverManager().install()),options=options)\n",
    "driver.get(url)\n",
    "# driver.maximize_window()"
   ]
  },
  {
   "cell_type": "code",
   "execution_count": 2,
   "metadata": {},
   "outputs": [],
   "source": [
    "from selenium.webdriver.common.by import By"
   ]
  },
  {
   "cell_type": "code",
   "execution_count": 3,
   "metadata": {},
   "outputs": [],
   "source": [
    "videos = driver.find_elements(By.CLASS_NAME,'style-scope ytd-rich-grid-media')"
   ]
  },
  {
   "cell_type": "code",
   "execution_count": 4,
   "metadata": {},
   "outputs": [
    {
     "data": {
      "text/plain": [
       "27"
      ]
     },
     "execution_count": 4,
     "metadata": {},
     "output_type": "execute_result"
    }
   ],
   "source": [
    "len(videos)"
   ]
  },
  {
   "cell_type": "code",
   "execution_count": 5,
   "metadata": {},
   "outputs": [
    {
     "name": "stdout",
     "output_type": "stream",
     "text": [
      "ARTS की दुनिया की PAHAL 🔥 || Launching Class 11th ARTS BATCH\n",
      "Something Big Coming Soon For Class - 9th & 10th Students 🔥 || Stay Tuned For More Updates 🖋️\n",
      "Launching PAHAL Batch 🔥 For Class 11th Arts Students 💪\n",
      "Launching FUNDO For Class - 6th to 8th Students 🔥💯 || Ab Hoga Padhai Ke Sath FUN 🤩\n",
      "⚡Unleashing the Power of PW Internationally⚡| Launching Physics Wallah Gulf\n",
      "Big Announcement for Gulf Region Aspirants 🔥| Physics Wallah Gulf Channel Trailer🚀\n",
      "Arjuna JEE v/s Arjuna NEET 🏏- Class 11th Faculties ka Cricket Match 🔥\n",
      "How to Study Zoology in Class 11th? Ab Saare Doubts Solve Honge !! 🔥\n",
      "BIGGEST OFFER For Class - 8th ,9th & 10th Students 🤩 || Grab This Opportunity Now 🔥\n",
      "UDAAN Hindi Batch 🔥| Class 10th वालों के बच्चें के लिए Surprises 🎉🎉 #3SaalLajawaab\n",
      "NEEV 2.0 Batch 🔥 | Class 9th वालों के बच्चें के लिए Surprises 🎉🎉 #3SaalLajawaab\n",
      "How to Study Botany in Class 11th? Ab Saare Doubts Solve Honge !! 🔥\n",
      "How To Prepare For National Science Olympiad? 🔥 || A Complete Guide For Class 9th & 10th Students\n",
      "How to Study Physics in Class 11th? Ab Saare Numericals Solve Honge !! 🔥\n",
      "Why Maximum Students WASTED their Class 11th? The HARSH TRUTH !!\n",
      "Meet Bhakti Agrawal : The Topper of Our CBSE Board Class - 10th 2023 🔥\n",
      "How To Plan Maths Strategy For Class -10th To Score 95%+ Marks || CBSE Boards 🔥\n",
      "Meet Dilisha Rajput : The Topper of Our CBSE Board Class - 10th 2023 🔥\n",
      "Olympiad Challengers Batch For Our Udaan & Victory Students || Class-10th🔥\n",
      "PW की कहानी, TOPPERS की जुबानी || Celebrating the Success of Our Class-10th Toppers⚡🤩\n",
      "Big Announcement For Class 10th HINDI MEDIUM Students 🔥 #Trailer💥\n",
      "India's Biggest Scholarship Test For All Students 🔥 || Watch This Video Now💯\n",
      "How To Start Class-10th History & Civics || ICSE Board || Follow This Strategy Plan 🔥\n",
      "How To Start Class-10th Geography || ICSE Board || Complete Roadmap For All Students🔥\n",
      "How To Start Class -10th Chemistry || ICSE Board || Complete Plan To Score 95%+ Marks\n",
      "Complete Plan to Start Class-9th Science || Follow This Master Strategy to score more than 95% ⚡⚡\n",
      "Best Way To Start Class -9th English 💥 || Master Strategy Plan || Follow this ⚡⚡\n"
     ]
    }
   ],
   "source": [
    "for video in videos:\n",
    "    title = video.find_element(By.XPATH,'.//*[@id=\"video-title\"]')\n",
    "    print(title.text)"
   ]
  },
  {
   "cell_type": "code",
   "execution_count": 6,
   "metadata": {},
   "outputs": [
    {
     "name": "stdout",
     "output_type": "stream",
     "text": [
      "https://www.youtube.com/watch?v=LuTONVLzESM\n",
      "https://www.youtube.com/watch?v=KWXKegvNa-I\n",
      "https://www.youtube.com/watch?v=dArUpCasmnE\n",
      "https://www.youtube.com/watch?v=HqG2QchBw8Y\n",
      "https://www.youtube.com/watch?v=1izKrQHyx9M\n",
      "https://www.youtube.com/watch?v=jXAb1evxaJc\n",
      "https://www.youtube.com/watch?v=2dn7XMxRtPE\n",
      "https://www.youtube.com/watch?v=Fks4dVnTb5M\n",
      "https://www.youtube.com/watch?v=nIuGXeISbSo\n",
      "https://www.youtube.com/watch?v=L5G-0FbyAsc\n",
      "https://www.youtube.com/watch?v=uqDX6hcRf2I\n",
      "https://www.youtube.com/watch?v=9ZVfDuqKIQM\n",
      "https://www.youtube.com/watch?v=1wMGzlQTyeM\n",
      "https://www.youtube.com/watch?v=ivS0xPAbVUs\n",
      "https://www.youtube.com/watch?v=UJb799ZLCwQ\n",
      "https://www.youtube.com/watch?v=RPCHRtdO9hg\n",
      "https://www.youtube.com/watch?v=iN2UWJW3lzo\n",
      "https://www.youtube.com/watch?v=lRle7Jzciq8\n",
      "https://www.youtube.com/watch?v=CPmcBN2xoxI\n",
      "https://www.youtube.com/watch?v=z3ko4cUOYO0\n",
      "https://www.youtube.com/watch?v=ZLgLCNKQwFw\n",
      "https://www.youtube.com/watch?v=J7hFajBOmBo\n",
      "https://www.youtube.com/watch?v=PXb-jcA2TGA\n",
      "https://www.youtube.com/watch?v=LxHAzwur8cI\n",
      "https://www.youtube.com/watch?v=sBXHecS1S1w\n",
      "https://www.youtube.com/watch?v=l6ZY90YnMy0\n",
      "https://www.youtube.com/watch?v=33onjejJLDs\n"
     ]
    }
   ],
   "source": [
    "bigbox = driver.find_elements(By.ID,\"video-title-link\")\n",
    "for video in bigbox:\n",
    "    link = video.get_attribute('href')\n",
    "    print(link)"
   ]
  },
  {
   "cell_type": "code",
   "execution_count": 7,
   "metadata": {},
   "outputs": [
    {
     "name": "stdout",
     "output_type": "stream",
     "text": [
      "https://i.ytimg.com/vi/LuTONVLzESM/hqdefault.jpg?sqp=-oaymwEcCNACELwBSFXyq4qpAw4IARUAAIhCGAFwAcABBg==&rs=AOn4CLCaMVZmPmUqryYudQm6lobkny_-Cg\n",
      "https://i.ytimg.com/vi/KWXKegvNa-I/hqdefault.jpg?sqp=-oaymwEcCNACELwBSFXyq4qpAw4IARUAAIhCGAFwAcABBg==&rs=AOn4CLAZ9XEzNrcu4YfUzbEfohE3CdXIVw\n",
      "https://i.ytimg.com/vi/dArUpCasmnE/hqdefault.jpg?sqp=-oaymwEcCNACELwBSFXyq4qpAw4IARUAAIhCGAFwAcABBg==&rs=AOn4CLCdiUURSFwzHKBaqzNQnNYVFf1PZA\n",
      "None\n",
      "None\n",
      "None\n",
      "None\n",
      "None\n",
      "None\n",
      "None\n",
      "None\n",
      "None\n",
      "None\n",
      "None\n",
      "None\n",
      "None\n",
      "None\n",
      "None\n",
      "None\n",
      "None\n",
      "None\n",
      "None\n",
      "None\n",
      "None\n",
      "None\n",
      "None\n",
      "None\n"
     ]
    }
   ],
   "source": [
    "for video in videos:\n",
    "    thumbnail = video.find_element(By.CLASS_NAME,'style-scope ytd-thumbnail')\n",
    "    thumbnail_img = thumbnail.find_element(By.TAG_NAME,'img')\n",
    "    thumbnail_src = thumbnail_img.get_attribute('src')\n",
    "    print(thumbnail_src)"
   ]
  },
  {
   "cell_type": "code",
   "execution_count": 8,
   "metadata": {},
   "outputs": [
    {
     "name": "stdout",
     "output_type": "stream",
     "text": [
      "ARTS की दुनिया की PAHAL 🔥 || Launching Class 11th ARTS BATCH by Physics Wallah Foundation 2 weeks ago 15 minutes 19,201 views\n",
      "Something Big Coming Soon For Class - 9th & 10th Students 🔥 || Stay Tuned For More Updates 🖋️ by Physics Wallah Foundation 3 weeks ago 38 seconds 41,568 views\n",
      "Launching PAHAL Batch 🔥 For Class 11th Arts Students 💪 by Physics Wallah Foundation 1 month ago 55 minutes 34,730 views\n",
      "Launching FUNDO For Class - 6th to 8th Students 🔥💯 || Ab Hoga Padhai Ke Sath FUN 🤩 by Physics Wallah Foundation 1 month ago 22 minutes 27,611 views\n",
      "⚡Unleashing the Power of PW Internationally⚡| Launching Physics Wallah Gulf by Physics Wallah Foundation 1 month ago 22 minutes 71,671 views\n",
      "Big Announcement for Gulf Region Aspirants 🔥| Physics Wallah Gulf Channel Trailer🚀 by Physics Wallah Foundation 2 months ago 1 minute, 26 seconds 100,206 views\n",
      "Arjuna JEE v/s Arjuna NEET 🏏- Class 11th Faculties ka Cricket Match 🔥 by Physics Wallah Foundation 2 months ago 30 minutes 424,931 views\n",
      "How to Study Zoology in Class 11th? Ab Saare Doubts Solve Honge !! 🔥 by Physics Wallah Foundation 2 months ago 37 minutes 12,387 views\n",
      "BIGGEST OFFER For Class - 8th ,9th & 10th Students 🤩 || Grab This Opportunity Now 🔥 by Physics Wallah Foundation 2 months ago 1 minute, 3 seconds 44,564 views\n",
      "UDAAN Hindi Batch 🔥| Class 10th वालों के बच्चें के लिए Surprises 🎉🎉 #3SaalLajawaab by Physics Wallah Foundation 2 months ago 13 seconds 20,524 views\n",
      "NEEV 2.0 Batch 🔥 | Class 9th वालों के बच्चें के लिए Surprises 🎉🎉 #3SaalLajawaab by Physics Wallah Foundation 2 months ago 17 seconds 33,762 views\n",
      "How to Study Botany in Class 11th? Ab Saare Doubts Solve Honge !! 🔥 by Physics Wallah Foundation 2 months ago 37 minutes 18,057 views\n",
      "How To Prepare For National Science Olympiad? 🔥 || A Complete Guide For Class 9th & 10th Students by Physics Wallah Foundation 2 months ago 22 minutes 87,927 views\n",
      "How to Study Physics in Class 11th? Ab Saare Numericals Solve Honge !! 🔥 by Physics Wallah Foundation 2 months ago 53 minutes 35,815 views\n",
      "Why Maximum Students WASTED their Class 11th? The HARSH TRUTH !! by Physics Wallah Foundation 2 months ago 30 minutes 44,287 views\n",
      "Meet Bhakti Agrawal : The Topper of Our CBSE Board Class - 10th 2023 🔥 by Physics Wallah Foundation 2 months ago 5 minutes, 1 second 22,510 views\n",
      "How To Plan Maths Strategy For Class -10th To Score 95%+ Marks || CBSE Boards 🔥 by Physics Wallah Foundation 2 months ago 36 minutes 380,247 views\n",
      "Meet Dilisha Rajput : The Topper of Our CBSE Board Class - 10th 2023 🔥 by Physics Wallah Foundation 2 months ago 15 minutes 17,189 views\n",
      "Olympiad Challengers Batch For Our Udaan & Victory Students || Class-10th🔥 by Physics Wallah Foundation 2 months ago 2 minutes, 35 seconds 54,464 views\n",
      "PW की कहानी, TOPPERS की जुबानी || Celebrating the Success of Our Class-10th Toppers⚡🤩 by Physics Wallah Foundation 2 months ago 46 seconds 53,727 views\n",
      "Big Announcement For Class 10th HINDI MEDIUM Students 🔥 #Trailer💥 by Physics Wallah Foundation 2 months ago 46 seconds 14,715 views\n",
      "India's Biggest Scholarship Test For All Students 🔥 || Watch This Video Now💯 by Physics Wallah Foundation 3 months ago 7 minutes, 36 seconds 34,137 views\n",
      "How To Start Class-10th History & Civics  || ICSE Board || Follow This Strategy Plan 🔥 by Physics Wallah Foundation 3 months ago 27 minutes 19,563 views\n",
      "How To Start Class-10th Geography || ICSE Board || Complete Roadmap For All Students🔥 by Physics Wallah Foundation 3 months ago 22 minutes 21,543 views\n",
      "How To Start Class -10th Chemistry || ICSE Board || Complete Plan To Score 95%+ Marks by Physics Wallah Foundation 3 months ago 26 minutes 22,486 views\n",
      "Complete Plan to Start Class-9th Science || Follow This Master Strategy to score more than 95% ⚡⚡ by Physics Wallah Foundation 3 months ago 26 minutes 84,390 views\n",
      "Best Way To Start Class -9th English 💥 || Master Strategy Plan || Follow this ⚡⚡ by Physics Wallah Foundation 3 months ago 31 minutes 20,891 views\n"
     ]
    }
   ],
   "source": [
    "bigbox = driver.find_elements(By.ID,\"video-title-link\")\n",
    "for video in bigbox:\n",
    "    link = video.get_attribute('aria-label')\n",
    "    print(link)"
   ]
  }
 ],
 "metadata": {
  "kernelspec": {
   "display_name": "Python 3",
   "language": "python",
   "name": "python3"
  },
  "language_info": {
   "codemirror_mode": {
    "name": "ipython",
    "version": 3
   },
   "file_extension": ".py",
   "mimetype": "text/x-python",
   "name": "python",
   "nbconvert_exporter": "python",
   "pygments_lexer": "ipython3",
   "version": "3.11.4"
  },
  "orig_nbformat": 4
 },
 "nbformat": 4,
 "nbformat_minor": 2
}
