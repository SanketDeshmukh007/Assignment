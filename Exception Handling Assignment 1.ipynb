{
 "cells": [
  {
   "cell_type": "markdown",
   "metadata": {},
   "source": [
    "Q1. What is an Exception in python? Write the difference between Exceptions and Syntax errors."
   ]
  },
  {
   "cell_type": "markdown",
   "metadata": {},
   "source": [
    "In Python, an exception is a runtime error that occurs when the interpreter encounters a condition or situation that it cannot handle. When an exception is raised during the execution of a program, it disrupts the normal flow of the program and jumps to an exception-handling block, if one is present. If not handled properly, exceptions can cause the program to terminate abruptly.\n",
    "Differences between Exceptions and Syntax Errors:\n",
    "\n",
    "Cause:\n",
    "\n",
    "Exceptions: Exceptions occur during the execution of a program and are related to runtime conditions or situations, such as invalid input or unexpected behavior.\n",
    "Syntax Errors: Syntax errors occur during the parsing phase of the program before its execution. They are caused by improper syntax in the code, such as missing colons, parentheses, or incorrect indentation.\n",
    "\n",
    "Occurrence:\n",
    "\n",
    "Exceptions: Exceptions occur while the program is running, at runtime, and are not detected until the specific line of code causing the exception is executed.\n",
    "Syntax Errors: Syntax errors are identified by the Python interpreter during the compilation or parsing phase before the program starts executing.\n",
    "\n",
    "Handling:\n",
    "\n",
    "Exceptions: Exceptions can be handled using try-except blocks. The code inside the try block is executed, and if an exception occurs, it jumps to the corresponding except block to handle the exception gracefully.\n",
    "Syntax Errors: Syntax errors must be fixed before the program can be executed. The interpreter points out the line and the type of syntax error encountered, and you need to correct the syntax manually.\n",
    "\n",
    "Examples:\n",
    "\n",
    "Exceptions: Examples of exceptions include ZeroDivisionError (division by zero), IndexError (index out of range), ValueError (invalid conversion), etc.\n",
    "Syntax Errors: Examples of syntax errors include missing colons after if or else statements, mismatched parentheses, and incorrect indentation."
   ]
  },
  {
   "cell_type": "markdown",
   "metadata": {},
   "source": [
    "Q2. What happens when an exception is not handled? Explain with an example."
   ]
  },
  {
   "cell_type": "markdown",
   "metadata": {},
   "source": [
    "If exception is not handled properly then it gives runtime error and program terminates abruptly.\n"
   ]
  },
  {
   "cell_type": "code",
   "execution_count": 2,
   "metadata": {},
   "outputs": [
    {
     "ename": "ZeroDivisionError",
     "evalue": "division by zero",
     "output_type": "error",
     "traceback": [
      "\u001b[1;31m---------------------------------------------------------------------------\u001b[0m",
      "\u001b[1;31mZeroDivisionError\u001b[0m                         Traceback (most recent call last)",
      "Cell \u001b[1;32mIn[2], line 2\u001b[0m\n\u001b[0;32m      1\u001b[0m \u001b[39m# Example\u001b[39;00m\n\u001b[1;32m----> 2\u001b[0m a \u001b[39m=\u001b[39m \u001b[39m10\u001b[39;49m \u001b[39m/\u001b[39;49m \u001b[39m0\u001b[39;49m\n\u001b[0;32m      3\u001b[0m \u001b[39mprint\u001b[39m(a)\n",
      "\u001b[1;31mZeroDivisionError\u001b[0m: division by zero"
     ]
    }
   ],
   "source": [
    "# Example\n",
    "a = 10 / 0\n",
    "print(a)"
   ]
  },
  {
   "cell_type": "markdown",
   "metadata": {},
   "source": [
    "Q3. Which python statements are used to catch and handle exceptions? Explain with an example."
   ]
  },
  {
   "cell_type": "markdown",
   "metadata": {},
   "source": [
    "In python, try and except statements are used to catch and handle the exceptions."
   ]
  },
  {
   "cell_type": "code",
   "execution_count": 4,
   "metadata": {},
   "outputs": [
    {
     "name": "stdout",
     "output_type": "stream",
     "text": [
      "invalid literal for int() with base 10: 'sanket'\n"
     ]
    }
   ],
   "source": [
    "# Example\n",
    "try:\n",
    "    int(\"sanket\")\n",
    "except ValueError as e:\n",
    "    print(e)"
   ]
  },
  {
   "cell_type": "markdown",
   "metadata": {},
   "source": [
    "Q4. Explain with an example:\n",
    "a. try and else\n",
    "b. finally\n",
    "c. raise"
   ]
  }
 ],
 "metadata": {
  "kernelspec": {
   "display_name": "Python 3",
   "language": "python",
   "name": "python3"
  },
  "language_info": {
   "codemirror_mode": {
    "name": "ipython",
    "version": 3
   },
   "file_extension": ".py",
   "mimetype": "text/x-python",
   "name": "python",
   "nbconvert_exporter": "python",
   "pygments_lexer": "ipython3",
   "version": "3.11.4"
  },
  "orig_nbformat": 4
 },
 "nbformat": 4,
 "nbformat_minor": 2
}
