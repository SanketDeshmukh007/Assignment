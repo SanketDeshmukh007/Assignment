{
 "cells": [
  {
   "cell_type": "markdown",
   "metadata": {},
   "source": [
    "Q1. What is an Exception in python? Write the difference between Exceptions and Syntax errors."
   ]
  },
  {
   "cell_type": "markdown",
   "metadata": {},
   "source": [
    "In Python, an exception is a runtime error that occurs when the interpreter encounters a condition or situation that it cannot handle. When an exception is raised during the execution of a program, it disrupts the normal flow of the program and jumps to an exception-handling block, if one is present. If not handled properly, exceptions can cause the program to terminate abruptly.\n",
    "Differences between Exceptions and Syntax Errors:\n",
    "\n",
    "Cause:\n",
    "\n",
    "Exceptions: Exceptions occur during the execution of a program and are related to runtime conditions or situations, such as invalid input or unexpected behavior.\n",
    "Syntax Errors: Syntax errors occur during the parsing phase of the program before its execution. They are caused by improper syntax in the code, such as missing colons, parentheses, or incorrect indentation.\n",
    "\n",
    "Occurrence:\n",
    "\n",
    "Exceptions: Exceptions occur while the program is running, at runtime, and are not detected until the specific line of code causing the exception is executed.\n",
    "Syntax Errors: Syntax errors are identified by the Python interpreter during the compilation or parsing phase before the program starts executing.\n",
    "\n",
    "Handling:\n",
    "\n",
    "Exceptions: Exceptions can be handled using try-except blocks. The code inside the try block is executed, and if an exception occurs, it jumps to the corresponding except block to handle the exception gracefully.\n",
    "Syntax Errors: Syntax errors must be fixed before the program can be executed. The interpreter points out the line and the type of syntax error encountered, and you need to correct the syntax manually.\n",
    "\n",
    "Examples:\n",
    "\n",
    "Exceptions: Examples of exceptions include ZeroDivisionError (division by zero), IndexError (index out of range), ValueError (invalid conversion), etc.\n",
    "Syntax Errors: Examples of syntax errors include missing colons after if or else statements, mismatched parentheses, and incorrect indentation."
   ]
  },
  {
   "cell_type": "markdown",
   "metadata": {},
   "source": [
    "Q2. What happens when an exception is not handled? Explain with an example."
   ]
  },
  {
   "cell_type": "markdown",
   "metadata": {},
   "source": [
    "If exception is not handled properly then it gives runtime error and program terminates abruptly.\n"
   ]
  },
  {
   "cell_type": "code",
   "execution_count": 2,
   "metadata": {},
   "outputs": [
    {
     "ename": "ZeroDivisionError",
     "evalue": "division by zero",
     "output_type": "error",
     "traceback": [
      "\u001b[1;31m---------------------------------------------------------------------------\u001b[0m",
      "\u001b[1;31mZeroDivisionError\u001b[0m                         Traceback (most recent call last)",
      "Cell \u001b[1;32mIn[2], line 2\u001b[0m\n\u001b[0;32m      1\u001b[0m \u001b[39m# Example\u001b[39;00m\n\u001b[1;32m----> 2\u001b[0m a \u001b[39m=\u001b[39m \u001b[39m10\u001b[39;49m \u001b[39m/\u001b[39;49m \u001b[39m0\u001b[39;49m\n\u001b[0;32m      3\u001b[0m \u001b[39mprint\u001b[39m(a)\n",
      "\u001b[1;31mZeroDivisionError\u001b[0m: division by zero"
     ]
    }
   ],
   "source": [
    "# Example\n",
    "a = 10 / 0\n",
    "print(a)"
   ]
  },
  {
   "cell_type": "markdown",
   "metadata": {},
   "source": [
    "Q3. Which python statements are used to catch and handle exceptions? Explain with an example."
   ]
  },
  {
   "cell_type": "markdown",
   "metadata": {},
   "source": [
    "In python, try and except statements are used to catch and handle the exceptions."
   ]
  },
  {
   "cell_type": "code",
   "execution_count": 4,
   "metadata": {},
   "outputs": [
    {
     "name": "stdout",
     "output_type": "stream",
     "text": [
      "invalid literal for int() with base 10: 'sanket'\n"
     ]
    }
   ],
   "source": [
    "# Example\n",
    "try:\n",
    "    int(\"sanket\")\n",
    "except ValueError as e:\n",
    "    print(e)"
   ]
  },
  {
   "cell_type": "markdown",
   "metadata": {},
   "source": [
    "Q4. Explain with an example:\n",
    "a. try and else\n",
    "b. finally\n",
    "c. raise"
   ]
  },
  {
   "cell_type": "code",
   "execution_count": 1,
   "metadata": {},
   "outputs": [
    {
     "name": "stdout",
     "output_type": "stream",
     "text": [
      "Division result: 5.0\n",
      "Operation completed.\n",
      "Error: Cannot divide by zero!\n",
      "Operation completed.\n"
     ]
    }
   ],
   "source": [
    "def perform_operation(x, y):\n",
    "    try:\n",
    "        result = x / y\n",
    "    except ZeroDivisionError:\n",
    "        print(\"Error: Cannot divide by zero!\")\n",
    "    else:\n",
    "        print(\"Division result:\", result)\n",
    "    finally:\n",
    "        print(\"Operation completed.\")\n",
    "\n",
    "# Example usage:\n",
    "perform_operation(10, 2)\n",
    "perform_operation(10, 0)\n"
   ]
  },
  {
   "cell_type": "markdown",
   "metadata": {},
   "source": [
    "In Python, the raise statement allows you to explicitly raise an exception. You can use this statement in situations where you want to handle exceptional conditions or errors in your code manually."
   ]
  },
  {
   "cell_type": "code",
   "execution_count": 2,
   "metadata": {},
   "outputs": [
    {
     "name": "stdout",
     "output_type": "stream",
     "text": [
      "Cannot divide by zero!\n"
     ]
    }
   ],
   "source": [
    "def divide(a, b):\n",
    "    if b == 0:\n",
    "        raise ValueError(\"Cannot divide by zero!\")\n",
    "    return a / b\n",
    "\n",
    "# Example usage:\n",
    "try:\n",
    "    result = divide(10, 0)\n",
    "except ValueError as ve:\n",
    "    print(ve)\n"
   ]
  },
  {
   "cell_type": "markdown",
   "metadata": {},
   "source": [
    "Q5. What are Custom Exceptions in python? Why do we need Custom Exceptions? Explain with an example"
   ]
  },
  {
   "cell_type": "markdown",
   "metadata": {},
   "source": [
    "Custom exceptions in Python refer to user-defined exception classes that extend the base Exception class or its subclasses. These custom exceptions allow developers to create their own specific exception types tailored to the needs of their applications. By defining custom exceptions, you can provide more informative and meaningful error messages when exceptional conditions occur in your code.\n",
    "\n",
    "Why do we need Custom Exceptions?\n",
    "\n",
    "Clarity and Readability: Custom exceptions make code more readable by clearly indicating the specific exceptional conditions that may occur. When an error is raised, the exception's name can provide insights into the cause of the problem.\n",
    "\n",
    "Ease of Maintenance: When you use custom exceptions, it becomes easier to identify and handle different types of errors in your codebase. It simplifies debugging and maintenance tasks.\n",
    "\n",
    "Error Differentiation: By defining distinct custom exceptions, you can handle different types of exceptional scenarios differently. It allows you to have fine-grained control over exception handling."
   ]
  },
  {
   "cell_type": "code",
   "execution_count": 3,
   "metadata": {},
   "outputs": [
    {
     "name": "stdout",
     "output_type": "stream",
     "text": [
      "Age is valid\n"
     ]
    }
   ],
   "source": [
    "class ValidateAge(Exception):\n",
    "    \n",
    "    def __init__(self,msg):\n",
    "        self.msg = msg\n",
    "\n",
    "def validateAge(age):\n",
    "    if(age < 0):\n",
    "        raise ValidateAge(\"Age is never negative\")\n",
    "    elif(age > 200):\n",
    "        raise ValidateAge(\"Age is too high\")\n",
    "    else:\n",
    "        print('Age is valid')\n",
    "\n",
    "try:\n",
    "    age  = int(input(\"Enter your age\"))\n",
    "    validateAge(age)\n",
    "except ValidateAge as e:\n",
    "    print(e)"
   ]
  },
  {
   "cell_type": "markdown",
   "metadata": {},
   "source": [
    "Q6. Create a custom exception class. Use this class to handle an exception."
   ]
  },
  {
   "cell_type": "code",
   "execution_count": 5,
   "metadata": {},
   "outputs": [
    {
     "name": "stdout",
     "output_type": "stream",
     "text": [
      "Result: 0.5\n"
     ]
    }
   ],
   "source": [
    "class InvalidInputError(Exception):\n",
    "    def __init__(self, message):\n",
    "        super().__init__(message)\n",
    "\n",
    "def divide_numbers(a, b):\n",
    "    if b == 0:\n",
    "        raise InvalidInputError(\"Division by zero is not allowed!\")\n",
    "    return a / b\n",
    "\n",
    "# Example usage:\n",
    "try:\n",
    "    num1 = float(input(\"Enter the first number: \"))\n",
    "    num2 = float(input(\"Enter the second number: \"))\n",
    "    result = divide_numbers(num1, num2)\n",
    "    print(\"Result:\", result)\n",
    "except ValueError as ve:\n",
    "    print(\"Error: Invalid input. Please enter valid numbers.\")\n",
    "except InvalidInputError as iie:\n",
    "    print(f\"Error: {iie}\")\n"
   ]
  }
 ],
 "metadata": {
  "kernelspec": {
   "display_name": "Python 3",
   "language": "python",
   "name": "python3"
  },
  "language_info": {
   "codemirror_mode": {
    "name": "ipython",
    "version": 3
   },
   "file_extension": ".py",
   "mimetype": "text/x-python",
   "name": "python",
   "nbconvert_exporter": "python",
   "pygments_lexer": "ipython3",
   "version": "3.11.4"
  },
  "orig_nbformat": 4
 },
 "nbformat": 4,
 "nbformat_minor": 2
}
