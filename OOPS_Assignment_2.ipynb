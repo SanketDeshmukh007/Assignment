{
 "cells": [
  {
   "cell_type": "markdown",
   "metadata": {},
   "source": [
    "Q1. What is Abstraction in OOps? Explain with an example."
   ]
  },
  {
   "cell_type": "markdown",
   "metadata": {},
   "source": [
    "Abstraction in object-oriented programming (OOP) is the process of representing complex real-world entities as simplified and essential models within a software system. It focuses on hiding the unnecessary details and exposing only the essential features and behaviors relevant to the user.\n",
    "\n",
    "Abstraction allows you to create abstract classes or interfaces that define a common set of methods without providing the implementation details. It serves as a blueprint for other classes to inherit from and implement the abstract methods according to their specific requirements."
   ]
  },
  {
   "cell_type": "code",
   "execution_count": 2,
   "metadata": {},
   "outputs": [],
   "source": [
    "import abc\n",
    "class shape:\n",
    "    def __init__(self,dimension):\n",
    "        self.dimension = dimension\n",
    "    \n",
    "    @abc.abstractmethod\n",
    "    def Area(self):\n",
    "        pass"
   ]
  },
  {
   "cell_type": "code",
   "execution_count": 3,
   "metadata": {},
   "outputs": [],
   "source": [
    "class square(shape):\n",
    "    def Area(self):\n",
    "        return self.dimension * self.dimension"
   ]
  },
  {
   "cell_type": "code",
   "execution_count": 4,
   "metadata": {},
   "outputs": [
    {
     "data": {
      "text/plain": [
       "25"
      ]
     },
     "execution_count": 4,
     "metadata": {},
     "output_type": "execute_result"
    }
   ],
   "source": [
    "s = square(5)\n",
    "s.Area()"
   ]
  },
  {
   "cell_type": "markdown",
   "metadata": {},
   "source": [
    "Q2. Differentiate between Abstraction and Encapsulation. Explain with an example."
   ]
  },
  {
   "cell_type": "markdown",
   "metadata": {},
   "source": [
    "Abstraction focuses on providing a simplified and essential representation of real-world entities within a software system. It involves hiding unnecessary details and exposing only the essential features and behaviors relevant to the user.\n",
    "In the context of OOP, abstraction is achieved through abstract classes and interfaces. An abstract class defines a common set of methods (including abstract methods without implementation) that subclasses can inherit and implement according to their specific requirements. An interface, on the other hand, defines a contract of methods that implementing classes must adhere to.\n",
    "\n",
    "Encapsulation is the practice of bundling data (attributes) and the methods (behaviors) that operate on that data together within a single unit (i.e., a class). It focuses on hiding the internal details and providing controlled access to the data through methods. It helps in achieving data security, modularity, and code maintainability.\n",
    "In Python, encapsulation is typically achieved by using access modifiers such as public, protected, and private. Although Python doesn't have strict access modifiers like some other languages, it conventionally uses underscores (_ and __) to indicate the level of visibility."
   ]
  },
  {
   "cell_type": "code",
   "execution_count": 5,
   "metadata": {},
   "outputs": [
    {
     "data": {
      "text/plain": [
       "25"
      ]
     },
     "execution_count": 5,
     "metadata": {},
     "output_type": "execute_result"
    }
   ],
   "source": [
    "# Abstraction\n",
    "\n",
    "import abc\n",
    "class shape:\n",
    "    def __init__(self,dimension):\n",
    "        self.dimension = dimension\n",
    "    \n",
    "    @abc.abstractmethod\n",
    "    def Area(self):\n",
    "        pass\n",
    "\n",
    "class square(shape):\n",
    "    def Area(self):\n",
    "        return self.dimension * self.dimension\n",
    "\n",
    "s = square(5)\n",
    "s.Area()"
   ]
  },
  {
   "cell_type": "code",
   "execution_count": 6,
   "metadata": {},
   "outputs": [],
   "source": [
    "# Encapsulation\n",
    "\n",
    "class Rectangle:\n",
    "    def __init__(self,length):\n",
    "        self.__length = length"
   ]
  },
  {
   "cell_type": "code",
   "execution_count": 7,
   "metadata": {},
   "outputs": [
    {
     "ename": "AttributeError",
     "evalue": "'Rectangle' object has no attribute '__length'",
     "output_type": "error",
     "traceback": [
      "\u001b[1;31m---------------------------------------------------------------------------\u001b[0m",
      "\u001b[1;31mAttributeError\u001b[0m                            Traceback (most recent call last)",
      "Cell \u001b[1;32mIn[7], line 2\u001b[0m\n\u001b[0;32m      1\u001b[0m r \u001b[39m=\u001b[39m Rectangle(\u001b[39m10\u001b[39m)\n\u001b[1;32m----> 2\u001b[0m r\u001b[39m.\u001b[39;49m__length\n",
      "\u001b[1;31mAttributeError\u001b[0m: 'Rectangle' object has no attribute '__length'"
     ]
    }
   ],
   "source": [
    "r = Rectangle(10)\n",
    "# Here length is a private data member thats why we cannot access it.\n",
    "r.__length"
   ]
  },
  {
   "cell_type": "code",
   "execution_count": 8,
   "metadata": {},
   "outputs": [
    {
     "data": {
      "text/plain": [
       "10"
      ]
     },
     "execution_count": 8,
     "metadata": {},
     "output_type": "execute_result"
    }
   ],
   "source": [
    "r._Rectangle__length"
   ]
  },
  {
   "cell_type": "markdown",
   "metadata": {},
   "source": [
    "Q3. What is abc module in python? Why is it used?"
   ]
  },
  {
   "cell_type": "markdown",
   "metadata": {},
   "source": [
    "The abc module in Python stands for \"Abstract Base Classes.\" It provides a way to define abstract base classes in Python, which are classes that cannot be instantiated directly but serve as templates for other classes to inherit from. Abstract base classes can define abstract methods that must be implemented by their subclasses.\n",
    "\n",
    "The abc module is used to implement and enforce abstract base classes and their associated methods. It provides the ABC class as a base class for defining abstract base classes. By inheriting from ABC, a class becomes an abstract base class and can define abstract methods using the @abstractmethod decorator. An abstract method is a method that only contains the method signature without an implementation.\n",
    "\n",
    "The abc module is used for the following purposes:\n",
    "\n",
    "Defining abstract base classes: The abc module allows you to define abstract base classes, which serve as blueprints for other classes to inherit from. Abstract base classes define a common interface and can enforce the implementation of certain methods in their subclasses.\n",
    "\n",
    "Ensuring interface consistency: Abstract base classes can be used to ensure that subclasses implement a specific set of methods. By defining abstract methods in the base class, any subclass that fails to implement these methods will raise an error at runtime.\n",
    "\n",
    "Polymorphism and duck typing: Abstract base classes enable polymorphism and duck typing in Python. Since multiple classes can inherit from the same abstract base class and implement its abstract methods differently, it allows for different objects to be treated interchangeably based on their shared interface."
   ]
  },
  {
   "cell_type": "markdown",
   "metadata": {},
   "source": [
    "Q4. How can we achieve data abstraction?"
   ]
  },
  {
   "cell_type": "markdown",
   "metadata": {},
   "source": [
    "\n",
    "\n",
    "In object-oriented programming, data abstraction can be achieved through encapsulation and information hiding. Here are the steps to achieve data abstraction:\n",
    "\n",
    "Define a Class: Create a class that represents the abstraction you want to achieve. The class should encapsulate the data and behaviors related to the abstraction.\n",
    "\n",
    "Identify Relevant Data: Determine the data or attributes that are essential to the abstraction and define them as class variables. These variables should represent the state or characteristics of the abstraction.\n",
    "\n",
    "Implement Access Modifiers: Use access modifiers (such as public, protected, and private) to control the visibility and accessibility of the class attributes. This ensures that the internal data of the class is hidden from external access and can only be accessed through defined methods.\n",
    "\n",
    "Define Methods: Create methods within the class that provide the necessary functionalities to manipulate or interact with the data. These methods should encapsulate the behaviors or operations associated with the abstraction.\n",
    "\n",
    "Hide Implementation Details: Hide the implementation details of the class from the outside world. Only expose the essential methods and attributes that are required for the users of the abstraction. This prevents users from directly accessing or modifying the internal data, promoting data security and integrity.\n",
    "\n",
    "By following these steps, you can achieve data abstraction in your code. Users of the class will interact with the abstraction through the provided methods, without needing to know the underlying implementation details or directly accessing the internal data."
   ]
  },
  {
   "cell_type": "markdown",
   "metadata": {},
   "source": [
    "Q5. Can we create an instance of an abstract class? Explain your answer."
   ]
  },
  {
   "cell_type": "markdown",
   "metadata": {},
   "source": [
    "No, we cannot create an instance of an abstract class in most programming languages, including Python. Abstract classes are meant to serve as blueprints or templates for other classes to inherit from and implement the abstract methods defined in the abstract class.\n",
    "\n",
    "The purpose of an abstract class is to provide a common interface and define common behavior among its subclasses. It contains one or more abstract methods, which are methods without an implementation. These abstract methods must be implemented by the concrete (non-abstract) subclasses that inherit from the abstract class.\n",
    "\n",
    "Attempting to create an instance of an abstract class will result in a runtime error. Abstract classes are incomplete and lack the necessary implementation for their abstract methods, so they cannot be instantiated directly.\n",
    "\n",
    "However, you can create instances of the concrete subclasses that inherit from the abstract class. These subclasses provide the required implementations for the abstract methods and can be instantiated to create objects."
   ]
  }
 ],
 "metadata": {
  "kernelspec": {
   "display_name": "Python 3",
   "language": "python",
   "name": "python3"
  },
  "language_info": {
   "codemirror_mode": {
    "name": "ipython",
    "version": 3
   },
   "file_extension": ".py",
   "mimetype": "text/x-python",
   "name": "python",
   "nbconvert_exporter": "python",
   "pygments_lexer": "ipython3",
   "version": "3.11.4"
  },
  "orig_nbformat": 4
 },
 "nbformat": 4,
 "nbformat_minor": 2
}
