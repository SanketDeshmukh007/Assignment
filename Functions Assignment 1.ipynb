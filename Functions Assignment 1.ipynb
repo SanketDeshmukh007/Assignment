{
 "cells": [
  {
   "cell_type": "markdown",
   "id": "e037bf89-761d-4a43-91c3-ba8ab97b1a26",
   "metadata": {},
   "source": [
    "Q1. Which keyword is used to create a function? Create a function to return a list of odd numbers in the\n",
    "range of 1 to 25."
   ]
  },
  {
   "cell_type": "markdown",
   "id": "e3aeb89e-e8ba-4e13-8b61-8d34a764a21c",
   "metadata": {},
   "source": [
    "- def keyword is used to to create a function."
   ]
  },
  {
   "cell_type": "code",
   "execution_count": 5,
   "id": "0b5ca94e-6a26-4014-b873-c820a7f7dd4f",
   "metadata": {},
   "outputs": [],
   "source": [
    "def oddNumbers(n):\n",
    "    l = []\n",
    "    for i in range(n+1):\n",
    "        if i % 2 != 0:\n",
    "            l.append(i)\n",
    "    return l"
   ]
  },
  {
   "cell_type": "code",
   "execution_count": 6,
   "id": "a5c49708-d23a-40a3-80a3-544c6a3adb6b",
   "metadata": {},
   "outputs": [],
   "source": [
    "ans = oddNumbers(25)"
   ]
  },
  {
   "cell_type": "code",
   "execution_count": 7,
   "id": "785a36e2-ecfa-4ed4-8929-9b4e8e04a16a",
   "metadata": {},
   "outputs": [
    {
     "name": "stdout",
     "output_type": "stream",
     "text": [
      "1\n",
      "3\n",
      "5\n",
      "7\n",
      "9\n",
      "11\n",
      "13\n",
      "15\n",
      "17\n",
      "19\n",
      "21\n",
      "23\n",
      "25\n"
     ]
    }
   ],
   "source": [
    "for i in ans:\n",
    "    print(i)"
   ]
  },
  {
   "cell_type": "markdown",
   "id": "32cb7bc9-9157-4a4e-8e3a-7e82d3e17bcc",
   "metadata": {},
   "source": [
    "Q2. Why *args and **kwargs is used in some functions? Create a function each for *args and **kwargs\n",
    "to demonstrate their use."
   ]
  },
  {
   "cell_type": "markdown",
   "id": "1441fccc-c773-486e-9aa2-02aeef1d74ea",
   "metadata": {},
   "source": [
    "In Python, *args and **kwargs are used in function definitions to allow the passing of a variable number of arguments to a function.\n",
    "\n",
    "The *args syntax allows you to pass a variable number of positional arguments to a function. It collects all the extra positional arguments as a tuple inside the function. On the other hand, **kwargs allows you to pass a variable number of keyword arguments to a function. It collects all the extra keyword arguments as a dictionary inside the function.\n",
    "\n",
    "Here's an example of a function that uses *args:"
   ]
  },
  {
   "cell_type": "code",
   "execution_count": 8,
   "id": "8b5f00ba-8ad9-4b58-a8e6-da22db24312f",
   "metadata": {},
   "outputs": [],
   "source": [
    "def sum_all_numbers(*args):\n",
    "    total = 0\n",
    "    for num in args:\n",
    "        total += num\n",
    "    return total"
   ]
  },
  {
   "cell_type": "code",
   "execution_count": 9,
   "id": "7e6a31a0-1fe6-4e54-bb39-ba22c6318505",
   "metadata": {},
   "outputs": [
    {
     "data": {
      "text/plain": [
       "15"
      ]
     },
     "execution_count": 9,
     "metadata": {},
     "output_type": "execute_result"
    }
   ],
   "source": [
    "sum_all_numbers(1,2,3,4,5)"
   ]
  },
  {
   "cell_type": "markdown",
   "id": "831d8227-28e2-484e-9c78-4b639d725e05",
   "metadata": {},
   "source": [
    "In this example, the function sum_all_numbers accepts any number of arguments and calculates their sum using the *args syntax. The arguments are treated as a tuple inside the function, allowing you to iterate over them and perform the desired operation."
   ]
  },
  {
   "cell_type": "markdown",
   "id": "0e592a31-26bb-40e2-a44e-4e36776fce46",
   "metadata": {},
   "source": [
    "Now, let's see an example that demonstrates the use of **kwargs:"
   ]
  },
  {
   "cell_type": "code",
   "execution_count": 10,
   "id": "16476d4d-abcd-4db0-af4d-013b976f5752",
   "metadata": {},
   "outputs": [
    {
     "name": "stdout",
     "output_type": "stream",
     "text": [
      "name: John\n",
      "age: 25\n",
      "city: New York\n"
     ]
    }
   ],
   "source": [
    "def print_person_details(**kwargs):\n",
    "    for key, value in kwargs.items():\n",
    "        print(key + \": \" + value)\n",
    "\n",
    "print_person_details(name=\"John\", age=\"25\", city=\"New York\")"
   ]
  },
  {
   "cell_type": "markdown",
   "id": "c7579b84-4d5f-42bc-9181-45267cee26ca",
   "metadata": {},
   "source": [
    "In this example, the function print_person_details accepts any number of keyword arguments and prints their key-value pairs. The arguments are collected as a dictionary inside the function using the **kwargs syntax. You can then iterate over the dictionary and access the keys and values as needed.\n",
    "\n",
    "Both *args and **kwargs provide flexibility when defining functions that can accept a variable number of arguments, whether they are positional or keyword arguments."
   ]
  },
  {
   "cell_type": "markdown",
   "id": "db606796-2c6f-43b7-982b-3710db17a13a",
   "metadata": {},
   "source": [
    "Q3. What is an iterator in python? Name the method used to initialise the iterator object and the method\n",
    "used for iteration. Use these methods to print the first five elements of the given list [2, 4, 6, 8, 10, 12, 14,\n",
    "16, 18, 20]."
   ]
  },
  {
   "cell_type": "markdown",
   "id": "dcf328b7-86a4-44d6-8804-2b0144ef1ae6",
   "metadata": {},
   "source": [
    "In Python, an iterator is an object that implements the iterator protocol, which consists of two methods: __iter__() and __next__().\n",
    "\n",
    "The __iter__() method is used to initialize the iterator object. It returns the iterator object itself and is called when you want to iterate over an iterable object. This method is typically used to perform any necessary setup or initialization for the iteration.\n",
    "\n",
    "The __next__() method is used for iteration. It returns the next value from the iterator. If there are no more items to return, it raises the StopIteration exception. This method is called repeatedly to fetch the next item in the iteration sequence."
   ]
  },
  {
   "cell_type": "code",
   "execution_count": 11,
   "id": "edd62350-fa6c-4e68-a0cc-58c63aa5bc53",
   "metadata": {},
   "outputs": [
    {
     "name": "stdout",
     "output_type": "stream",
     "text": [
      "2\n",
      "4\n",
      "6\n",
      "8\n",
      "10\n"
     ]
    }
   ],
   "source": [
    "l = [2, 4, 6, 8, 10, 12, 14, 16, 18, 20]\n",
    "l1 = iter(l)\n",
    "for i in range(5):\n",
    "    print(next(l1))"
   ]
  },
  {
   "cell_type": "markdown",
   "id": "76fbbfe2-02b2-45d0-9b9e-8b9ebf335f9f",
   "metadata": {},
   "source": [
    "Q4. What is a generator function in python? Why yield keyword is used? Give an example of a generator\n",
    "function."
   ]
  },
  {
   "cell_type": "markdown",
   "id": "f575aeeb-e053-4591-89e5-c5671486fd5b",
   "metadata": {},
   "source": [
    "In Python, a generator function is a special type of function that uses the yield keyword instead of return to return values. It allows you to define a function that behaves like an iterator, generating a sequence of values on-the-fly rather than returning them all at once.\n",
    "\n",
    "When a generator function is called, it returns a generator object that can be iterated over using a loop, comprehensions, or by explicitly calling the next() function on the generator object.\n",
    "\n",
    "The yield keyword is used in a generator function to pause the execution of the function and yield a value to the caller. When the generator is iterated over, each time the yield statement is encountered, the current value is returned, and the function's state is saved. The next time the generator is iterated, execution resumes from the point immediately after the yield statement, allowing the function to continue where it left off.\n",
    "\n",
    "The use of the yield keyword provides several advantages:\n",
    "\n",
    "Lazy evaluation: Generator functions allow for lazy evaluation of values, meaning they generate values as needed, saving memory and improving performance. Values are generated one at a time, only when requested, rather than generating the entire sequence upfront.\n",
    "\n",
    "Memory efficiency: Since generator functions generate values on-the-fly, they are memory-efficient, especially when dealing with large or infinite sequences. Only one value is stored in memory at a time, rather than the entire sequence.\n",
    "\n",
    "Iteration control: The yield keyword allows you to control the iteration process explicitly. You can decide when and how many values to yield, and even conditionally determine the next value based on certain criteria."
   ]
  },
  {
   "cell_type": "code",
   "execution_count": 12,
   "id": "0e6e20e3-7df6-4463-81c2-01c0d5d2d130",
   "metadata": {},
   "outputs": [],
   "source": [
    "def fib(n):\n",
    "    a,b = 0,1\n",
    "    for i in range(n):\n",
    "        yield a\n",
    "        a,b = b,a+b"
   ]
  },
  {
   "cell_type": "code",
   "execution_count": 13,
   "id": "cc0a9fa7-d9ec-4a34-83e2-c387e5ecb812",
   "metadata": {},
   "outputs": [
    {
     "data": {
      "text/plain": [
       "<generator object fib at 0x7f765ce29540>"
      ]
     },
     "execution_count": 13,
     "metadata": {},
     "output_type": "execute_result"
    }
   ],
   "source": [
    "fib(10)"
   ]
  },
  {
   "cell_type": "code",
   "execution_count": 14,
   "id": "b9a6e0c4-d542-4448-9ef6-8dc7a50d0cbb",
   "metadata": {},
   "outputs": [
    {
     "name": "stdout",
     "output_type": "stream",
     "text": [
      "0\n",
      "1\n",
      "1\n",
      "2\n",
      "3\n",
      "5\n",
      "8\n",
      "13\n",
      "21\n",
      "34\n"
     ]
    }
   ],
   "source": [
    "fib1 = fib(10)\n",
    "for i in range(10):\n",
    "    print(next(fib1))"
   ]
  },
  {
   "cell_type": "markdown",
   "id": "bcbeb857-5acd-4a61-b5a6-9a9ce62e3625",
   "metadata": {},
   "source": [
    "Q5. Create a generator function for prime numbers less than 1000. Use the next() method to print the\n",
    "first 20 prime numbers."
   ]
  },
  {
   "cell_type": "code",
   "execution_count": 19,
   "id": "d70cf20f-f69b-4f11-b376-b8a8401ebebf",
   "metadata": {},
   "outputs": [],
   "source": [
    "def isprime(n):\n",
    "    for i in range(2,n):\n",
    "        if n % i == 0:\n",
    "            return False\n",
    "    return True\n",
    "\n",
    "def prime():\n",
    "    for i in range(2,1000):\n",
    "        if isprime(i):\n",
    "            yield i"
   ]
  },
  {
   "cell_type": "code",
   "execution_count": 20,
   "id": "56d8b0be-535d-4358-bef6-306fa5d232cc",
   "metadata": {},
   "outputs": [
    {
     "name": "stdout",
     "output_type": "stream",
     "text": [
      "2\n",
      "3\n",
      "5\n",
      "7\n",
      "11\n",
      "13\n",
      "17\n",
      "19\n",
      "23\n",
      "29\n",
      "31\n",
      "37\n",
      "41\n",
      "43\n",
      "47\n",
      "53\n",
      "59\n",
      "61\n",
      "67\n",
      "71\n"
     ]
    }
   ],
   "source": [
    "Prime = prime()\n",
    "for i in range(20):\n",
    "    print(next(Prime))"
   ]
  },
  {
   "cell_type": "markdown",
   "id": "8a704ca0-82ff-4179-b9ab-5dcc924040fb",
   "metadata": {},
   "source": [
    "Q6. Write a python program to print the first 10 Fibonacci numbers using a while loop."
   ]
  },
  {
   "cell_type": "code",
   "execution_count": 23,
   "id": "1d7bd1df-e018-4f43-b4bb-357f389f1981",
   "metadata": {},
   "outputs": [
    {
     "name": "stdout",
     "output_type": "stream",
     "text": [
      "0\n",
      "1\n",
      "1\n",
      "2\n",
      "3\n",
      "5\n",
      "8\n",
      "13\n",
      "21\n",
      "34\n"
     ]
    }
   ],
   "source": [
    "i = 0\n",
    "a,b = 0,1\n",
    "while i < 10:\n",
    "    print(a)\n",
    "    a,b = b,a+b\n",
    "    i = i + 1"
   ]
  },
  {
   "cell_type": "markdown",
   "id": "5b31f79e-9128-4b0e-b61b-86a81d6cae6f",
   "metadata": {},
   "source": [
    "Q7. Write a List Comprehension to iterate through the given string: ‘pwskills’.\n",
    "Expected output: ['p', 'w', 's', 'k', 'i', 'l', 'l', 's']"
   ]
  },
  {
   "cell_type": "code",
   "execution_count": 24,
   "id": "affdc640-0e26-48dc-aa11-0332b6c018a7",
   "metadata": {},
   "outputs": [
    {
     "data": {
      "text/plain": [
       "['p', 'w', 's', 'k', 'i', 'l', 'l', 's']"
      ]
     },
     "execution_count": 24,
     "metadata": {},
     "output_type": "execute_result"
    }
   ],
   "source": [
    "l = [i for i in 'pwskills']\n",
    "l"
   ]
  },
  {
   "cell_type": "markdown",
   "id": "ed0941f3-b8ae-4552-a941-8593e8e19091",
   "metadata": {},
   "source": [
    "Q8. Write a python program to check whether a given number is Palindrome or not using a while loop."
   ]
  },
  {
   "cell_type": "code",
   "execution_count": 31,
   "id": "df919f78-ee7b-43ab-af8d-dfba890ce3a7",
   "metadata": {},
   "outputs": [
    {
     "name": "stdin",
     "output_type": "stream",
     "text": [
      "Enter a number :  23455\n"
     ]
    },
    {
     "name": "stdout",
     "output_type": "stream",
     "text": [
      "23455 is not a Palindrome number\n"
     ]
    }
   ],
   "source": [
    "n = int(input(\"Enter a number : \"))\n",
    "num = n\n",
    "ans = 0\n",
    "while n != 0:\n",
    "    rem = n % 10\n",
    "    ans = ans * 10 + rem\n",
    "    n = n // 10\n",
    "if num == ans:\n",
    "    print(num, \"is a Palindrome number\")\n",
    "else:\n",
    "    print(num, \"is not a Palindrome number\")"
   ]
  },
  {
   "cell_type": "markdown",
   "id": "70710c3b-a356-4d17-ae51-25d65241b59d",
   "metadata": {},
   "source": [
    "Q9. Write a code to print odd numbers from 1 to 100 using list comprehension."
   ]
  },
  {
   "cell_type": "code",
   "execution_count": 35,
   "id": "13565ff9-6393-4a53-8516-722fbbfac555",
   "metadata": {},
   "outputs": [
    {
     "data": {
      "text/plain": [
       "[1,\n",
       " 2,\n",
       " 3,\n",
       " 4,\n",
       " 5,\n",
       " 6,\n",
       " 7,\n",
       " 8,\n",
       " 9,\n",
       " 10,\n",
       " 11,\n",
       " 12,\n",
       " 13,\n",
       " 14,\n",
       " 15,\n",
       " 16,\n",
       " 17,\n",
       " 18,\n",
       " 19,\n",
       " 20,\n",
       " 21,\n",
       " 22,\n",
       " 23,\n",
       " 24,\n",
       " 25,\n",
       " 26,\n",
       " 27,\n",
       " 28,\n",
       " 29,\n",
       " 30,\n",
       " 31,\n",
       " 32,\n",
       " 33,\n",
       " 34,\n",
       " 35,\n",
       " 36,\n",
       " 37,\n",
       " 38,\n",
       " 39,\n",
       " 40,\n",
       " 41,\n",
       " 42,\n",
       " 43,\n",
       " 44,\n",
       " 45,\n",
       " 46,\n",
       " 47,\n",
       " 48,\n",
       " 49,\n",
       " 50,\n",
       " 51,\n",
       " 52,\n",
       " 53,\n",
       " 54,\n",
       " 55,\n",
       " 56,\n",
       " 57,\n",
       " 58,\n",
       " 59,\n",
       " 60,\n",
       " 61,\n",
       " 62,\n",
       " 63,\n",
       " 64,\n",
       " 65,\n",
       " 66,\n",
       " 67,\n",
       " 68,\n",
       " 69,\n",
       " 70,\n",
       " 71,\n",
       " 72,\n",
       " 73,\n",
       " 74,\n",
       " 75,\n",
       " 76,\n",
       " 77,\n",
       " 78,\n",
       " 79,\n",
       " 80,\n",
       " 81,\n",
       " 82,\n",
       " 83,\n",
       " 84,\n",
       " 85,\n",
       " 86,\n",
       " 87,\n",
       " 88,\n",
       " 89,\n",
       " 90,\n",
       " 91,\n",
       " 92,\n",
       " 93,\n",
       " 94,\n",
       " 95,\n",
       " 96,\n",
       " 97,\n",
       " 98,\n",
       " 99,\n",
       " 100]"
      ]
     },
     "execution_count": 35,
     "metadata": {},
     "output_type": "execute_result"
    }
   ],
   "source": [
    "l = [i for i in range(1,101)]\n",
    "l1 = [i for i in range()"
   ]
  },
  {
   "cell_type": "code",
   "execution_count": null,
   "id": "4a643db9-e1fa-4f3c-bfed-bbc62f09df8e",
   "metadata": {},
   "outputs": [],
   "source": []
  }
 ],
 "metadata": {
  "kernelspec": {
   "display_name": "Python 3 (ipykernel)",
   "language": "python",
   "name": "python3"
  },
  "language_info": {
   "codemirror_mode": {
    "name": "ipython",
    "version": 3
   },
   "file_extension": ".py",
   "mimetype": "text/x-python",
   "name": "python",
   "nbconvert_exporter": "python",
   "pygments_lexer": "ipython3",
   "version": "3.10.8"
  }
 },
 "nbformat": 4,
 "nbformat_minor": 5
}
