{
 "cells": [
  {
   "cell_type": "markdown",
   "id": "177a895e-984f-4b14-9b69-03b420ff51f3",
   "metadata": {},
   "source": [
    "Q1. How do you comment code in Python? What are the different types of comments?"
   ]
  },
  {
   "cell_type": "markdown",
   "id": "da35f467-98c9-4ba4-bcb0-5eb6e4d52dba",
   "metadata": {},
   "source": [
    "In Python, you can add comments to your code to provide explanations or make notes that are not executed as part of the program. Python supports two types of comments:\n",
    "\n",
    "Single-line comments: To add a single-line comment, you can use the hash symbol (#) followed by the comment text. Any text after the hash symbol on the same line will be ignored by the Python interpreter. For example:"
   ]
  },
  {
   "cell_type": "code",
   "execution_count": 1,
   "id": "d55e6ead-b9d1-4084-adc8-f6ae78468683",
   "metadata": {},
   "outputs": [
    {
     "name": "stdout",
     "output_type": "stream",
     "text": [
      "Hello, World!\n"
     ]
    }
   ],
   "source": [
    "# This is a single-line comment\n",
    "print(\"Hello, World!\")  # This is another comment"
   ]
  },
  {
   "cell_type": "markdown",
   "id": "5748c1c8-8f38-4797-813c-00536c73f905",
   "metadata": {},
   "source": [
    "Multi-line comments: Python does not have a specific syntax for multi-line comments like some other programming languages. However, you can use multi-line strings (also known as docstrings) as a workaround to achieve a similar effect. By convention, triple quotes (either single or double) are used to create multi-line strings. Although these strings are usually used for documentation purposes, they can also serve as multi-line comments. For example:"
   ]
  },
  {
   "cell_type": "code",
   "execution_count": 2,
   "id": "0b5db086-0a46-438e-a00f-84b0da936b24",
   "metadata": {},
   "outputs": [
    {
     "data": {
      "text/plain": [
       "'\\nThis is also a multi-line comment.\\nIt can span multiple lines as well.\\n'"
      ]
     },
     "execution_count": 2,
     "metadata": {},
     "output_type": "execute_result"
    }
   ],
   "source": [
    "\"\"\"\n",
    "This is a multi-line comment.\n",
    "It can span multiple lines.\n",
    "\"\"\"\n",
    "\n",
    "'''\n",
    "This is also a multi-line comment.\n",
    "It can span multiple lines as well.\n",
    "'''"
   ]
  },
  {
   "cell_type": "markdown",
   "id": "239e7238-6c41-4055-90e1-154ccd96789e",
   "metadata": {},
   "source": [
    "Q2. What are variables in Python? How do you declare and assign values to variables?"
   ]
  },
  {
   "cell_type": "markdown",
   "id": "a0e19e4c-befc-454f-bfa0-3e035a75651c",
   "metadata": {},
   "source": [
    "In Python, variables are used to store data values. A variable is a name given to memory location.\n",
    "To declare and assign a value to a variable in Python, you need to follow these steps:\n",
    "\n",
    "Variable declaration: In Python, you don't explicitly declare variables with their data types. You can simply assign a value to a variable, and Python will automatically infer its type based on the assigned value. You declare a variable by assigning a value to it using the assignment operator (=).\n",
    "\n",
    "Variable assignment: Assigning a value to a variable is done by using the assignment operator (=). The value on the right-hand side of the equals sign is assigned to the variable on the left-hand side. For example:"
   ]
  },
  {
   "cell_type": "code",
   "execution_count": 3,
   "id": "0324849d-6274-4a12-aadb-57c962ec9fad",
   "metadata": {},
   "outputs": [
    {
     "name": "stdout",
     "output_type": "stream",
     "text": [
      "sanket\n",
      "5\n"
     ]
    }
   ],
   "source": [
    "a = 5\n",
    "s = 'sanket'\n",
    "print(s)\n",
    "print(a)"
   ]
  },
  {
   "cell_type": "markdown",
   "id": "e1aab909-e636-4cdd-a530-2be92cd61c93",
   "metadata": {},
   "source": [
    "Q3. How do you convert one data type to another in Python?"
   ]
  },
  {
   "cell_type": "markdown",
   "id": "fbd89335-53f7-449c-bca3-8f470435ea6d",
   "metadata": {},
   "source": [
    "In Python, you can convert one data type to another using type conversion functions.\n",
    "Here are some examples:"
   ]
  },
  {
   "cell_type": "code",
   "execution_count": 4,
   "id": "8bc8c5d0-e0be-4777-82b8-fbbfc8575518",
   "metadata": {},
   "outputs": [
    {
     "data": {
      "text/plain": [
       "float"
      ]
     },
     "execution_count": 4,
     "metadata": {},
     "output_type": "execute_result"
    }
   ],
   "source": [
    "a = 6\n",
    "type(a)\n",
    "a = float(a)\n",
    "type(a)"
   ]
  },
  {
   "cell_type": "code",
   "execution_count": 5,
   "id": "5b18863d-1ac9-41d7-89a1-cb240dd2766f",
   "metadata": {},
   "outputs": [
    {
     "data": {
      "text/plain": [
       "list"
      ]
     },
     "execution_count": 5,
     "metadata": {},
     "output_type": "execute_result"
    }
   ],
   "source": [
    "a = (1,2,3,4,5)\n",
    "type(a)\n",
    "a = list(a)\n",
    "type(a)"
   ]
  },
  {
   "cell_type": "markdown",
   "id": "25cb2712-dd7b-43d3-ba21-54ca5bb98e36",
   "metadata": {},
   "source": [
    "Q4. How do you write and execute a Python script from the command line?"
   ]
  },
  {
   "cell_type": "markdown",
   "id": "5dc7dad5-de72-4d62-84af-0c5fe9e0b046",
   "metadata": {},
   "source": [
    "To write and execute a Python script from the command line, you can follow these steps:\n",
    "\n",
    "1.Open a text editor: Open a text editor of your choice (e.g., Notepad, Sublime Text, VS Code) to write your Python script.\n",
    "\n",
    "2.Write your Python script: In the text editor, write your Python code. For example, you can create a simple script that prints \"Hello, World!\"\n",
    "\n",
    "3.Save the file: Save the file with a .py extension, which indicates that it is a Python script. Choose a meaningful filename, such as hello.py.\n",
    "\n",
    "4.Open the command line interface: Open the command line interface on your operating system (e.g., Command Prompt on Windows, Terminal on macOS/Linux).\n",
    "\n",
    "5.Navigate to the script's directory: Use the cd command (change directory) to navigate to the directory where your Python script is saved. For example, if your script is in the Documents folder, you can use the following command\n",
    "\n",
    "6.Execute the script: Once you're in the correct directory, you can execute the Python script by typing python followed by the script's filename.\n",
    "\n",
    "7.Press Enter: After entering the command to execute the script, press the Enter key.\n",
    "\n",
    "If there are no errors in your script, you should see the output of your program in the command line interface."
   ]
  },
  {
   "cell_type": "markdown",
   "id": "9633e95c-9b88-4e5a-ab4c-0fb85e4692ec",
   "metadata": {},
   "source": [
    "Q5. Given a list my_list = [1, 2, 3, 4, 5], write the code to slice the list and obtain the sub-list [2, 3]."
   ]
  },
  {
   "cell_type": "code",
   "execution_count": 7,
   "id": "6c9ca2fc-177c-4cfc-bea8-67743eb16448",
   "metadata": {},
   "outputs": [
    {
     "data": {
      "text/plain": [
       "[2, 3]"
      ]
     },
     "execution_count": 7,
     "metadata": {},
     "output_type": "execute_result"
    }
   ],
   "source": [
    "my_list = [1,2,3,4,5]\n",
    "sub_list = my_list[1:3]\n",
    "sub_list"
   ]
  },
  {
   "cell_type": "markdown",
   "id": "7e17fce9-ecc5-489d-8bc5-dd74661c1713",
   "metadata": {},
   "source": [
    "Q6. What is a complex number in mathematics, and how is it represented in Python?"
   ]
  },
  {
   "cell_type": "markdown",
   "id": "548aa8f5-7180-48d6-a004-76f994b9a751",
   "metadata": {},
   "source": [
    "In mathematics, a complex number is a number that comprises both a real part and an imaginary part. It is represented in the form \"a + bi\", where \"a\" is the real part, \"b\" is the imaginary part, and \"i\" represents the imaginary unit (√-1). The real part represents the horizontal axis on the complex plane, while the imaginary part represents the vertical axis.\n",
    "\n",
    "In Python, complex numbers are supported as a built-in data type. They can be represented by using the complex() function or by directly writing the number in the form \"a + bj\". For example:"
   ]
  },
  {
   "cell_type": "code",
   "execution_count": 9,
   "id": "5c1ca572-3363-4276-b95b-4ba932caaf2c",
   "metadata": {},
   "outputs": [
    {
     "name": "stdout",
     "output_type": "stream",
     "text": [
      "<class 'complex'>\n",
      "3.0\n",
      "5.0\n"
     ]
    }
   ],
   "source": [
    "a = 3 + 5j\n",
    "print(type(a))\n",
    "print(a.real)\n",
    "print(a.imag)"
   ]
  },
  {
   "cell_type": "markdown",
   "id": "f9bb054e-c4bb-4954-90b2-67a4af6ecaa9",
   "metadata": {},
   "source": [
    "Q7. What is the correct way to declare a variable named age and assign the value 25 to it?"
   ]
  },
  {
   "cell_type": "markdown",
   "id": "441e21ca-de43-438f-9785-1fb6e79b1b2f",
   "metadata": {},
   "source": [
    "In Python, you can declare a variable named age and assign the value 25 to it using the following syntax:"
   ]
  },
  {
   "cell_type": "code",
   "execution_count": 10,
   "id": "5202626b-7b5a-48f5-a406-95a423a6b039",
   "metadata": {},
   "outputs": [],
   "source": [
    "age = 25"
   ]
  },
  {
   "cell_type": "markdown",
   "id": "3b0b3bda-3e82-4d64-9867-589ee77dc71b",
   "metadata": {},
   "source": [
    "In this example, the variable age is declared using the variable name age and assigned the value 25 using the assignment operator (=). After this line of code, the variable age will hold the value 25.\n",
    "\n",
    "It's important to note that in Python, you don't need to specify the data type explicitly when declaring a variable. Python dynamically infers the data type based on the assigned value. In this case, since 25 is an integer, the variable age will be of type integer.\n",
    "\n",
    "Additionally, variable names in Python are case-sensitive, so age and Age would be considered as two different variables. It's good practice to use descriptive variable names that convey the meaning of the stored value."
   ]
  },
  {
   "cell_type": "markdown",
   "id": "8c7079ec-362d-448b-8a7d-aab7d04a5851",
   "metadata": {},
   "source": [
    "Q8. Declare a variable named price and assign the value 9.99 to it. What data type does this variable\n",
    "belong to?"
   ]
  },
  {
   "cell_type": "code",
   "execution_count": 11,
   "id": "fc4f6f6c-5eb1-4e14-96d3-591ce392ed3f",
   "metadata": {},
   "outputs": [
    {
     "name": "stdout",
     "output_type": "stream",
     "text": [
      "<class 'float'>\n"
     ]
    }
   ],
   "source": [
    "price = 9.99\n",
    "print(type(price))"
   ]
  },
  {
   "cell_type": "markdown",
   "id": "0ac5d31f-3c9c-44ac-af73-d7aaded92884",
   "metadata": {},
   "source": [
    "If you declare a variable named price and assign the value 9.99 to it, the data type of the variable price would be a float.\n",
    "In Python, decimal numbers with fractional parts are represented using the float data type. Floats are used to store real numbers, including both whole numbers and numbers with decimal places."
   ]
  },
  {
   "cell_type": "markdown",
   "id": "503e53c8-28dd-410b-afb4-c83176ee5a0e",
   "metadata": {},
   "source": [
    "Q9. Create a variable named name and assign your full name to it as a string. How would you print the\n",
    "value of this variable?"
   ]
  },
  {
   "cell_type": "code",
   "execution_count": 12,
   "id": "673a7131-6804-4f12-9d68-975a939de130",
   "metadata": {},
   "outputs": [
    {
     "name": "stdout",
     "output_type": "stream",
     "text": [
      "Sanket Suryakant Deshmukh\n"
     ]
    }
   ],
   "source": [
    "name = \"Sanket Suryakant Deshmukh\"\n",
    "print(name)"
   ]
  },
  {
   "cell_type": "markdown",
   "id": "0ce14f79-ee79-42b4-aa43-627296b7d1a9",
   "metadata": {},
   "source": [
    "The value of name variable is printed using print() function."
   ]
  },
  {
   "cell_type": "markdown",
   "id": "e09c5de9-4985-45ee-a0d5-2b2619fbbb68",
   "metadata": {},
   "source": [
    "Q10. Given the string \"Hello, World!\", extract the substring \"World\"."
   ]
  },
  {
   "cell_type": "code",
   "execution_count": 14,
   "id": "97d794a9-443a-4f5d-be2f-eee4e5f2721b",
   "metadata": {},
   "outputs": [
    {
     "data": {
      "text/plain": [
       "'World'"
      ]
     },
     "execution_count": 14,
     "metadata": {},
     "output_type": "execute_result"
    }
   ],
   "source": [
    "s = \"Hello, World!\"\n",
    "s[7:12]"
   ]
  },
  {
   "cell_type": "markdown",
   "id": "0d57b24a-3ad2-4b75-af6d-51a4c45cfb55",
   "metadata": {},
   "source": [
    "Q11. Create a variable named \"is_student\" and assign it a boolean value indicating whether you are\n",
    "currently a student or not."
   ]
  },
  {
   "cell_type": "code",
   "execution_count": null,
   "id": "ea220d6c-0d82-40bb-89cd-43dc3e144cd8",
   "metadata": {},
   "outputs": [],
   "source": [
    "is_student = True\n"
   ]
  }
 ],
 "metadata": {
  "kernelspec": {
   "display_name": "Python 3 (ipykernel)",
   "language": "python",
   "name": "python3"
  },
  "language_info": {
   "codemirror_mode": {
    "name": "ipython",
    "version": 3
   },
   "file_extension": ".py",
   "mimetype": "text/x-python",
   "name": "python",
   "nbconvert_exporter": "python",
   "pygments_lexer": "ipython3",
   "version": "3.10.8"
  }
 },
 "nbformat": 4,
 "nbformat_minor": 5
}
